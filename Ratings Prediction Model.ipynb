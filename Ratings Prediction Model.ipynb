{
 "cells": [
  {
   "cell_type": "code",
   "execution_count": 1,
   "id": "b742d210",
   "metadata": {},
   "outputs": [],
   "source": [
    "import numpy as np\n",
    "import matplotlib.pyplot as plt\n",
    "import seaborn as sns\n",
    "import warnings \n",
    "\n",
    "warnings.filterwarnings('ignore')"
   ]
  },
  {
   "cell_type": "code",
   "execution_count": 11,
   "id": "028c711d",
   "metadata": {},
   "outputs": [],
   "source": [
    "import pandas as pd \n",
    "df=pd.read_csv(r'C:\\Users\\AYUSHI\\Desktop\\Flip Robo\\Ratings_Prediction\\Ratings.csv')"
   ]
  },
  {
   "cell_type": "code",
   "execution_count": 12,
   "id": "eefe08cc",
   "metadata": {},
   "outputs": [
    {
     "data": {
      "text/html": [
       "<div>\n",
       "<style scoped>\n",
       "    .dataframe tbody tr th:only-of-type {\n",
       "        vertical-align: middle;\n",
       "    }\n",
       "\n",
       "    .dataframe tbody tr th {\n",
       "        vertical-align: top;\n",
       "    }\n",
       "\n",
       "    .dataframe thead th {\n",
       "        text-align: right;\n",
       "    }\n",
       "</style>\n",
       "<table border=\"1\" class=\"dataframe\">\n",
       "  <thead>\n",
       "    <tr style=\"text-align: right;\">\n",
       "      <th></th>\n",
       "      <th>Reviews</th>\n",
       "      <th>Ratings</th>\n",
       "    </tr>\n",
       "  </thead>\n",
       "  <tbody>\n",
       "    <tr>\n",
       "      <th>0</th>\n",
       "      <td>Thanks again Flipkart team the wonderful deliv...</td>\n",
       "      <td>4</td>\n",
       "    </tr>\n",
       "    <tr>\n",
       "      <th>1</th>\n",
       "      <td>Camera 4/5 if u able to set it properly\\nBatte...</td>\n",
       "      <td>5</td>\n",
       "    </tr>\n",
       "    <tr>\n",
       "      <th>2</th>\n",
       "      <td>Very nice mobile and battry is very extra powa...</td>\n",
       "      <td>5</td>\n",
       "    </tr>\n",
       "    <tr>\n",
       "      <th>3</th>\n",
       "      <td>Excellent!!\\nVery good mobile. I ordered it to...</td>\n",
       "      <td>5</td>\n",
       "    </tr>\n",
       "    <tr>\n",
       "      <th>4</th>\n",
       "      <td>Positive sides :\\n1. Battery is very very powe...</td>\n",
       "      <td>4</td>\n",
       "    </tr>\n",
       "    <tr>\n",
       "      <th>...</th>\n",
       "      <td>...</td>\n",
       "      <td>...</td>\n",
       "    </tr>\n",
       "    <tr>\n",
       "      <th>21665</th>\n",
       "      <td>Okay but as pr prices not features as per othe...</td>\n",
       "      <td>3</td>\n",
       "    </tr>\n",
       "    <tr>\n",
       "      <th>21666</th>\n",
       "      <td>Good</td>\n",
       "      <td>3</td>\n",
       "    </tr>\n",
       "    <tr>\n",
       "      <th>21667</th>\n",
       "      <td>good product</td>\n",
       "      <td>3</td>\n",
       "    </tr>\n",
       "    <tr>\n",
       "      <th>21668</th>\n",
       "      <td>Good but rate is higher</td>\n",
       "      <td>3</td>\n",
       "    </tr>\n",
       "    <tr>\n",
       "      <th>21669</th>\n",
       "      <td>Nice product</td>\n",
       "      <td>3</td>\n",
       "    </tr>\n",
       "  </tbody>\n",
       "</table>\n",
       "<p>21670 rows × 2 columns</p>\n",
       "</div>"
      ],
      "text/plain": [
       "                                                 Reviews  Ratings\n",
       "0      Thanks again Flipkart team the wonderful deliv...        4\n",
       "1      Camera 4/5 if u able to set it properly\\nBatte...        5\n",
       "2      Very nice mobile and battry is very extra powa...        5\n",
       "3      Excellent!!\\nVery good mobile. I ordered it to...        5\n",
       "4      Positive sides :\\n1. Battery is very very powe...        4\n",
       "...                                                  ...      ...\n",
       "21665  Okay but as pr prices not features as per othe...        3\n",
       "21666                                               Good        3\n",
       "21667                                       good product        3\n",
       "21668                            Good but rate is higher        3\n",
       "21669                                       Nice product        3\n",
       "\n",
       "[21670 rows x 2 columns]"
      ]
     },
     "execution_count": 12,
     "metadata": {},
     "output_type": "execute_result"
    }
   ],
   "source": [
    "df"
   ]
  },
  {
   "cell_type": "code",
   "execution_count": 13,
   "id": "2de8fda2",
   "metadata": {},
   "outputs": [
    {
     "data": {
      "text/plain": [
       "Reviews    object\n",
       "Ratings     int64\n",
       "dtype: object"
      ]
     },
     "execution_count": 13,
     "metadata": {},
     "output_type": "execute_result"
    }
   ],
   "source": [
    "df.dtypes"
   ]
  },
  {
   "cell_type": "code",
   "execution_count": 14,
   "id": "c0a2902d",
   "metadata": {
    "scrolled": true
   },
   "outputs": [
    {
     "data": {
      "text/plain": [
       "Reviews    0\n",
       "Ratings    0\n",
       "dtype: int64"
      ]
     },
     "execution_count": 14,
     "metadata": {},
     "output_type": "execute_result"
    }
   ],
   "source": [
    "df.isnull().sum()"
   ]
  },
  {
   "cell_type": "code",
   "execution_count": null,
   "id": "c79d1351",
   "metadata": {},
   "outputs": [],
   "source": [
    "reviews\n",
    "reviews=df.columns[0]"
   ]
  },
  {
   "cell_type": "markdown",
   "id": "1c89e237",
   "metadata": {},
   "source": [
    "### Natural Language Processing"
   ]
  },
  {
   "cell_type": "code",
   "execution_count": 16,
   "id": "c321049b",
   "metadata": {},
   "outputs": [
    {
     "name": "stdout",
     "output_type": "stream",
     "text": [
      "Collecting nltk\n",
      "  Downloading nltk-3.7-py3-none-any.whl (1.5 MB)\n",
      "Collecting regex>=2021.8.3\n",
      "  Downloading regex-2022.6.2-cp38-cp38-win_amd64.whl (262 kB)\n",
      "Requirement already satisfied: click in c:\\users\\ayushi\\anaconda3\\lib\\site-packages (from nltk) (8.0.4)\n",
      "Requirement already satisfied: tqdm in c:\\users\\ayushi\\anaconda3\\lib\\site-packages (from nltk) (4.63.0)\n",
      "Requirement already satisfied: joblib in c:\\users\\ayushi\\anaconda3\\lib\\site-packages (from nltk) (1.1.0)\n",
      "Requirement already satisfied: colorama in c:\\users\\ayushi\\anaconda3\\lib\\site-packages (from click->nltk) (0.4.4)\n",
      "Installing collected packages: regex, nltk\n",
      "Successfully installed nltk-3.7 regex-2022.6.2\n"
     ]
    }
   ],
   "source": [
    "!pip install nltk\n",
    "import nltk\n",
    "from nltk.tokenize import word_tokenize"
   ]
  },
  {
   "cell_type": "markdown",
   "id": "f530a527",
   "metadata": {},
   "source": [
    "### To split sentences into words"
   ]
  },
  {
   "cell_type": "code",
   "execution_count": 43,
   "id": "108ed1ae",
   "metadata": {},
   "outputs": [
    {
     "name": "stderr",
     "output_type": "stream",
     "text": [
      "[nltk_data] Downloading package punkt to\n",
      "[nltk_data]     C:\\Users\\AYUSHI\\AppData\\Roaming\\nltk_data...\n",
      "[nltk_data]   Unzipping tokenizers\\punkt.zip.\n"
     ]
    }
   ],
   "source": [
    "from pandas.core.apply import frame_apply\n",
    "import nltk\n",
    "nltk.download('punkt')\n",
    "\n",
    "df['tokenized_sents'] = df.apply(lambda row: nltk.word_tokenize(row['Reviews']), axis=1)"
   ]
  },
  {
   "cell_type": "code",
   "execution_count": 47,
   "id": "4518a547",
   "metadata": {},
   "outputs": [],
   "source": [
    "import string\n",
    "punct=string.punctuation"
   ]
  },
  {
   "cell_type": "code",
   "execution_count": 45,
   "id": "3e0022b9",
   "metadata": {},
   "outputs": [
    {
     "name": "stderr",
     "output_type": "stream",
     "text": [
      "[nltk_data] Downloading package stopwords to\n",
      "[nltk_data]     C:\\Users\\AYUSHI\\AppData\\Roaming\\nltk_data...\n",
      "[nltk_data]   Unzipping corpora\\stopwords.zip.\n"
     ]
    }
   ],
   "source": [
    "from nltk.corpus import stopwords\n",
    "nltk.download(\"stopwords\")\n",
    "stopwords=stopwords.words('english')\n"
   ]
  },
  {
   "cell_type": "code",
   "execution_count": 58,
   "id": "106e000a",
   "metadata": {
    "scrolled": true
   },
   "outputs": [
    {
     "data": {
      "text/html": [
       "<div>\n",
       "<style scoped>\n",
       "    .dataframe tbody tr th:only-of-type {\n",
       "        vertical-align: middle;\n",
       "    }\n",
       "\n",
       "    .dataframe tbody tr th {\n",
       "        vertical-align: top;\n",
       "    }\n",
       "\n",
       "    .dataframe thead th {\n",
       "        text-align: right;\n",
       "    }\n",
       "</style>\n",
       "<table border=\"1\" class=\"dataframe\">\n",
       "  <thead>\n",
       "    <tr style=\"text-align: right;\">\n",
       "      <th></th>\n",
       "      <th>Reviews</th>\n",
       "      <th>Ratings</th>\n",
       "      <th>tokenized_sents</th>\n",
       "    </tr>\n",
       "  </thead>\n",
       "  <tbody>\n",
       "    <tr>\n",
       "      <th>0</th>\n",
       "      <td>Thanks again Flipkart team the wonderful deliv...</td>\n",
       "      <td>4</td>\n",
       "      <td>[Thanks, again, Flipkart, team, the, wonderful...</td>\n",
       "    </tr>\n",
       "    <tr>\n",
       "      <th>1</th>\n",
       "      <td>Camera 4/5 if u able to set it properly\\nBatte...</td>\n",
       "      <td>5</td>\n",
       "      <td>[Camera, 4/5, if, u, able, to, set, it, proper...</td>\n",
       "    </tr>\n",
       "    <tr>\n",
       "      <th>2</th>\n",
       "      <td>Very nice mobile and battry is very extra powa...</td>\n",
       "      <td>5</td>\n",
       "      <td>[Very, nice, mobile, and, battry, is, very, ex...</td>\n",
       "    </tr>\n",
       "    <tr>\n",
       "      <th>3</th>\n",
       "      <td>Excellent!!\\nVery good mobile. I ordered it to...</td>\n",
       "      <td>5</td>\n",
       "      <td>[Excellent, !, !, Very, good, mobile, ., I, or...</td>\n",
       "    </tr>\n",
       "    <tr>\n",
       "      <th>4</th>\n",
       "      <td>Positive sides :\\n1. Battery is very very powe...</td>\n",
       "      <td>4</td>\n",
       "      <td>[Positive, sides, :, 1, ., Battery, is, very, ...</td>\n",
       "    </tr>\n",
       "    <tr>\n",
       "      <th>...</th>\n",
       "      <td>...</td>\n",
       "      <td>...</td>\n",
       "      <td>...</td>\n",
       "    </tr>\n",
       "    <tr>\n",
       "      <th>21665</th>\n",
       "      <td>Okay but as pr prices not features as per othe...</td>\n",
       "      <td>3</td>\n",
       "      <td>[Okay, but, as, pr, prices, not, features, as,...</td>\n",
       "    </tr>\n",
       "    <tr>\n",
       "      <th>21666</th>\n",
       "      <td>Good</td>\n",
       "      <td>3</td>\n",
       "      <td>[Good]</td>\n",
       "    </tr>\n",
       "    <tr>\n",
       "      <th>21667</th>\n",
       "      <td>good product</td>\n",
       "      <td>3</td>\n",
       "      <td>[good, product]</td>\n",
       "    </tr>\n",
       "    <tr>\n",
       "      <th>21668</th>\n",
       "      <td>Good but rate is higher</td>\n",
       "      <td>3</td>\n",
       "      <td>[Good, but, rate, is, higher]</td>\n",
       "    </tr>\n",
       "    <tr>\n",
       "      <th>21669</th>\n",
       "      <td>Nice product</td>\n",
       "      <td>3</td>\n",
       "      <td>[Nice, product]</td>\n",
       "    </tr>\n",
       "  </tbody>\n",
       "</table>\n",
       "<p>21670 rows × 3 columns</p>\n",
       "</div>"
      ],
      "text/plain": [
       "                                                 Reviews  Ratings  \\\n",
       "0      Thanks again Flipkart team the wonderful deliv...        4   \n",
       "1      Camera 4/5 if u able to set it properly\\nBatte...        5   \n",
       "2      Very nice mobile and battry is very extra powa...        5   \n",
       "3      Excellent!!\\nVery good mobile. I ordered it to...        5   \n",
       "4      Positive sides :\\n1. Battery is very very powe...        4   \n",
       "...                                                  ...      ...   \n",
       "21665  Okay but as pr prices not features as per othe...        3   \n",
       "21666                                               Good        3   \n",
       "21667                                       good product        3   \n",
       "21668                            Good but rate is higher        3   \n",
       "21669                                       Nice product        3   \n",
       "\n",
       "                                         tokenized_sents  \n",
       "0      [Thanks, again, Flipkart, team, the, wonderful...  \n",
       "1      [Camera, 4/5, if, u, able, to, set, it, proper...  \n",
       "2      [Very, nice, mobile, and, battry, is, very, ex...  \n",
       "3      [Excellent, !, !, Very, good, mobile, ., I, or...  \n",
       "4      [Positive, sides, :, 1, ., Battery, is, very, ...  \n",
       "...                                                  ...  \n",
       "21665  [Okay, but, as, pr, prices, not, features, as,...  \n",
       "21666                                             [Good]  \n",
       "21667                                    [good, product]  \n",
       "21668                      [Good, but, rate, is, higher]  \n",
       "21669                                    [Nice, product]  \n",
       "\n",
       "[21670 rows x 3 columns]"
      ]
     },
     "execution_count": 58,
     "metadata": {},
     "output_type": "execute_result"
    }
   ],
   "source": [
    "df"
   ]
  },
  {
   "cell_type": "markdown",
   "id": "6a893fda",
   "metadata": {},
   "source": [
    "### To remove stopwords"
   ]
  },
  {
   "cell_type": "code",
   "execution_count": 62,
   "id": "eb8125e0",
   "metadata": {},
   "outputs": [],
   "source": [
    "df['cleaned_sents'] = df.apply(lambda row: [word for word in nltk.word_tokenize(row['Reviews'])if word not in stopwords if word not in punct],axis=1)"
   ]
  },
  {
   "cell_type": "code",
   "execution_count": 63,
   "id": "ae4e203f",
   "metadata": {},
   "outputs": [
    {
     "data": {
      "text/html": [
       "<div>\n",
       "<style scoped>\n",
       "    .dataframe tbody tr th:only-of-type {\n",
       "        vertical-align: middle;\n",
       "    }\n",
       "\n",
       "    .dataframe tbody tr th {\n",
       "        vertical-align: top;\n",
       "    }\n",
       "\n",
       "    .dataframe thead th {\n",
       "        text-align: right;\n",
       "    }\n",
       "</style>\n",
       "<table border=\"1\" class=\"dataframe\">\n",
       "  <thead>\n",
       "    <tr style=\"text-align: right;\">\n",
       "      <th></th>\n",
       "      <th>Reviews</th>\n",
       "      <th>Ratings</th>\n",
       "      <th>tokenized_sents</th>\n",
       "      <th>cleaned_sents</th>\n",
       "    </tr>\n",
       "  </thead>\n",
       "  <tbody>\n",
       "    <tr>\n",
       "      <th>0</th>\n",
       "      <td>Thanks again Flipkart team the wonderful deliv...</td>\n",
       "      <td>4</td>\n",
       "      <td>[Thanks, again, Flipkart, team, the, wonderful...</td>\n",
       "      <td>[Thanks, Flipkart, team, wonderful, delivery, ...</td>\n",
       "    </tr>\n",
       "    <tr>\n",
       "      <th>1</th>\n",
       "      <td>Camera 4/5 if u able to set it properly\\nBatte...</td>\n",
       "      <td>5</td>\n",
       "      <td>[Camera, 4/5, if, u, able, to, set, it, proper...</td>\n",
       "      <td>[Camera, 4/5, u, able, set, properly, Battery,...</td>\n",
       "    </tr>\n",
       "    <tr>\n",
       "      <th>2</th>\n",
       "      <td>Very nice mobile and battry is very extra powa...</td>\n",
       "      <td>5</td>\n",
       "      <td>[Very, nice, mobile, and, battry, is, very, ex...</td>\n",
       "      <td>[Very, nice, mobile, battry, extra, powar, cam...</td>\n",
       "    </tr>\n",
       "    <tr>\n",
       "      <th>3</th>\n",
       "      <td>Excellent!!\\nVery good mobile. I ordered it to...</td>\n",
       "      <td>5</td>\n",
       "      <td>[Excellent, !, !, Very, good, mobile, ., I, or...</td>\n",
       "      <td>[Excellent, Very, good, mobile, I, ordered, fr...</td>\n",
       "    </tr>\n",
       "    <tr>\n",
       "      <th>4</th>\n",
       "      <td>Positive sides :\\n1. Battery is very very powe...</td>\n",
       "      <td>4</td>\n",
       "      <td>[Positive, sides, :, 1, ., Battery, is, very, ...</td>\n",
       "      <td>[Positive, sides, 1, Battery, powerful, Certai...</td>\n",
       "    </tr>\n",
       "    <tr>\n",
       "      <th>...</th>\n",
       "      <td>...</td>\n",
       "      <td>...</td>\n",
       "      <td>...</td>\n",
       "      <td>...</td>\n",
       "    </tr>\n",
       "    <tr>\n",
       "      <th>21665</th>\n",
       "      <td>Okay but as pr prices not features as per othe...</td>\n",
       "      <td>3</td>\n",
       "      <td>[Okay, but, as, pr, prices, not, features, as,...</td>\n",
       "      <td>[Okay, pr, prices, features, per, company]</td>\n",
       "    </tr>\n",
       "    <tr>\n",
       "      <th>21666</th>\n",
       "      <td>Good</td>\n",
       "      <td>3</td>\n",
       "      <td>[Good]</td>\n",
       "      <td>[Good]</td>\n",
       "    </tr>\n",
       "    <tr>\n",
       "      <th>21667</th>\n",
       "      <td>good product</td>\n",
       "      <td>3</td>\n",
       "      <td>[good, product]</td>\n",
       "      <td>[good, product]</td>\n",
       "    </tr>\n",
       "    <tr>\n",
       "      <th>21668</th>\n",
       "      <td>Good but rate is higher</td>\n",
       "      <td>3</td>\n",
       "      <td>[Good, but, rate, is, higher]</td>\n",
       "      <td>[Good, rate, higher]</td>\n",
       "    </tr>\n",
       "    <tr>\n",
       "      <th>21669</th>\n",
       "      <td>Nice product</td>\n",
       "      <td>3</td>\n",
       "      <td>[Nice, product]</td>\n",
       "      <td>[Nice, product]</td>\n",
       "    </tr>\n",
       "  </tbody>\n",
       "</table>\n",
       "<p>21670 rows × 4 columns</p>\n",
       "</div>"
      ],
      "text/plain": [
       "                                                 Reviews  Ratings  \\\n",
       "0      Thanks again Flipkart team the wonderful deliv...        4   \n",
       "1      Camera 4/5 if u able to set it properly\\nBatte...        5   \n",
       "2      Very nice mobile and battry is very extra powa...        5   \n",
       "3      Excellent!!\\nVery good mobile. I ordered it to...        5   \n",
       "4      Positive sides :\\n1. Battery is very very powe...        4   \n",
       "...                                                  ...      ...   \n",
       "21665  Okay but as pr prices not features as per othe...        3   \n",
       "21666                                               Good        3   \n",
       "21667                                       good product        3   \n",
       "21668                            Good but rate is higher        3   \n",
       "21669                                       Nice product        3   \n",
       "\n",
       "                                         tokenized_sents  \\\n",
       "0      [Thanks, again, Flipkart, team, the, wonderful...   \n",
       "1      [Camera, 4/5, if, u, able, to, set, it, proper...   \n",
       "2      [Very, nice, mobile, and, battry, is, very, ex...   \n",
       "3      [Excellent, !, !, Very, good, mobile, ., I, or...   \n",
       "4      [Positive, sides, :, 1, ., Battery, is, very, ...   \n",
       "...                                                  ...   \n",
       "21665  [Okay, but, as, pr, prices, not, features, as,...   \n",
       "21666                                             [Good]   \n",
       "21667                                    [good, product]   \n",
       "21668                      [Good, but, rate, is, higher]   \n",
       "21669                                    [Nice, product]   \n",
       "\n",
       "                                           cleaned_sents  \n",
       "0      [Thanks, Flipkart, team, wonderful, delivery, ...  \n",
       "1      [Camera, 4/5, u, able, set, properly, Battery,...  \n",
       "2      [Very, nice, mobile, battry, extra, powar, cam...  \n",
       "3      [Excellent, Very, good, mobile, I, ordered, fr...  \n",
       "4      [Positive, sides, 1, Battery, powerful, Certai...  \n",
       "...                                                  ...  \n",
       "21665         [Okay, pr, prices, features, per, company]  \n",
       "21666                                             [Good]  \n",
       "21667                                    [good, product]  \n",
       "21668                               [Good, rate, higher]  \n",
       "21669                                    [Nice, product]  \n",
       "\n",
       "[21670 rows x 4 columns]"
      ]
     },
     "execution_count": 63,
     "metadata": {},
     "output_type": "execute_result"
    }
   ],
   "source": [
    "df"
   ]
  },
  {
   "cell_type": "code",
   "execution_count": null,
   "id": "5e7a9f71",
   "metadata": {},
   "outputs": [],
   "source": []
  }
 ],
 "metadata": {
  "kernelspec": {
   "display_name": "Python 3 (ipykernel)",
   "language": "python",
   "name": "python3"
  },
  "language_info": {
   "codemirror_mode": {
    "name": "ipython",
    "version": 3
   },
   "file_extension": ".py",
   "mimetype": "text/x-python",
   "name": "python",
   "nbconvert_exporter": "python",
   "pygments_lexer": "ipython3",
   "version": "3.8.8"
  }
 },
 "nbformat": 4,
 "nbformat_minor": 5
}
