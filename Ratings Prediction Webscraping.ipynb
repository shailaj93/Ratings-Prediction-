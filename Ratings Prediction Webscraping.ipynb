{
 "cells": [
  {
   "cell_type": "code",
   "execution_count": 4,
   "id": "a75ede2a",
   "metadata": {},
   "outputs": [
    {
     "name": "stdout",
     "output_type": "stream",
     "text": [
      "Requirement already satisfied: selenium in c:\\users\\ayushi\\anaconda3\\lib\\site-packages (4.1.0)\n",
      "Requirement already satisfied: trio~=0.17 in c:\\users\\ayushi\\anaconda3\\lib\\site-packages (from selenium) (0.19.0)\n",
      "Requirement already satisfied: trio-websocket~=0.9 in c:\\users\\ayushi\\anaconda3\\lib\\site-packages (from selenium) (0.9.2)\n",
      "Requirement already satisfied: urllib3[secure]~=1.26 in c:\\users\\ayushi\\anaconda3\\lib\\site-packages (from selenium) (1.26.8)\n",
      "Requirement already satisfied: cffi>=1.14 in c:\\users\\ayushi\\anaconda3\\lib\\site-packages (from trio~=0.17->selenium) (1.15.0)\n",
      "Requirement already satisfied: outcome in c:\\users\\ayushi\\anaconda3\\lib\\site-packages (from trio~=0.17->selenium) (1.1.0)\n",
      "Requirement already satisfied: sortedcontainers in c:\\users\\ayushi\\anaconda3\\lib\\site-packages (from trio~=0.17->selenium) (2.4.0)\n",
      "Requirement already satisfied: sniffio in c:\\users\\ayushi\\anaconda3\\lib\\site-packages (from trio~=0.17->selenium) (1.2.0)\n",
      "Requirement already satisfied: attrs>=19.2.0 in c:\\users\\ayushi\\anaconda3\\lib\\site-packages (from trio~=0.17->selenium) (21.4.0)\n",
      "Requirement already satisfied: idna in c:\\users\\ayushi\\anaconda3\\lib\\site-packages (from trio~=0.17->selenium) (3.3)\n",
      "Requirement already satisfied: async-generator>=1.9 in c:\\users\\ayushi\\anaconda3\\lib\\site-packages (from trio~=0.17->selenium) (1.10)\n",
      "Requirement already satisfied: pycparser in c:\\users\\ayushi\\anaconda3\\lib\\site-packages (from cffi>=1.14->trio~=0.17->selenium) (2.21)\n",
      "Requirement already satisfied: wsproto>=0.14 in c:\\users\\ayushi\\anaconda3\\lib\\site-packages (from trio-websocket~=0.9->selenium) (1.0.0)\n",
      "Requirement already satisfied: pyOpenSSL>=0.14 in c:\\users\\ayushi\\anaconda3\\lib\\site-packages (from urllib3[secure]~=1.26->selenium) (21.0.0)\n",
      "Requirement already satisfied: cryptography>=1.3.4 in c:\\users\\ayushi\\anaconda3\\lib\\site-packages (from urllib3[secure]~=1.26->selenium) (3.4.8)\n",
      "Requirement already satisfied: certifi in c:\\users\\ayushi\\anaconda3\\lib\\site-packages (from urllib3[secure]~=1.26->selenium) (2021.10.8)\n",
      "Requirement already satisfied: six>=1.5.2 in c:\\users\\ayushi\\anaconda3\\lib\\site-packages (from pyOpenSSL>=0.14->urllib3[secure]~=1.26->selenium) (1.16.0)\n",
      "Requirement already satisfied: h11<1,>=0.9.0 in c:\\users\\ayushi\\anaconda3\\lib\\site-packages (from wsproto>=0.14->trio-websocket~=0.9->selenium) (0.12.0)\n"
     ]
    }
   ],
   "source": [
    "!pip install selenium"
   ]
  },
  {
   "cell_type": "code",
   "execution_count": 5,
   "id": "373b6e32",
   "metadata": {},
   "outputs": [],
   "source": [
    "import pandas as pd\n",
    "import selenium\n",
    "from selenium import webdriver\n",
    "import time\n",
    "from selenium.common.exceptions import NoSuchElementException\n",
    "import warnings\n",
    "warnings.filterwarnings('ignore')"
   ]
  },
  {
   "cell_type": "code",
   "execution_count": 64,
   "id": "433feb5b",
   "metadata": {},
   "outputs": [],
   "source": [
    "driver=webdriver.Chrome(r'C:\\Users\\AYUSHI\\Downloads\\chromedriver.exe')"
   ]
  },
  {
   "cell_type": "code",
   "execution_count": 65,
   "id": "1c0da8f1",
   "metadata": {},
   "outputs": [],
   "source": [
    "url='https://www.flipkart.com/'\n",
    "driver.get(url)"
   ]
  },
  {
   "cell_type": "code",
   "execution_count": 7,
   "id": "94e6e88a",
   "metadata": {},
   "outputs": [
    {
     "data": {
      "text/plain": [
       "<selenium.webdriver.remote.webelement.WebElement (session=\"cdd1b7e025dc340eb57a79eaf87d6cdf\", element=\"289bbcd3-64d7-4552-a1c1-d1371c7d5155\")>"
      ]
     },
     "execution_count": 7,
     "metadata": {},
     "output_type": "execute_result"
    }
   ],
   "source": [
    "Search=driver.find_element_by_xpath('/html/body/div[1]/div/div[1]/div[1]/div[2]/div[2]/form/div/div/input')\n",
    "Search"
   ]
  },
  {
   "cell_type": "code",
   "execution_count": 8,
   "id": "85aa2a7f",
   "metadata": {},
   "outputs": [
    {
     "name": "stdout",
     "output_type": "stream",
     "text": [
      "Please search here smart phone\n",
      "User input:- smart phone\n"
     ]
    }
   ],
   "source": [
    "name=input(\"Please search here \")\n",
    "print(\"User input:-\", name)"
   ]
  },
  {
   "cell_type": "code",
   "execution_count": 9,
   "id": "a2468cc9",
   "metadata": {},
   "outputs": [],
   "source": [
    "Search.send_keys(name)"
   ]
  },
  {
   "cell_type": "code",
   "execution_count": 10,
   "id": "b6f2a64f",
   "metadata": {},
   "outputs": [
    {
     "data": {
      "text/plain": [
       "<selenium.webdriver.remote.webelement.WebElement (session=\"cdd1b7e025dc340eb57a79eaf87d6cdf\", element=\"aca5f47a-14b1-4e2f-84fe-0cbcfee9e0a2\")>"
      ]
     },
     "execution_count": 10,
     "metadata": {},
     "output_type": "execute_result"
    }
   ],
   "source": [
    "all_btn=driver.find_element_by_xpath('/html/body/div[1]/div/div[1]/div[1]/div[2]/div[2]/form/div/button')\n",
    "all_btn"
   ]
  },
  {
   "cell_type": "code",
   "execution_count": 11,
   "id": "b2300942",
   "metadata": {},
   "outputs": [],
   "source": [
    "all_btn.click()"
   ]
  },
  {
   "cell_type": "code",
   "execution_count": 82,
   "id": "93458f5b",
   "metadata": {},
   "outputs": [],
   "source": [
    "Ratings=[]\n",
    "Reviews=[]"
   ]
  },
  {
   "cell_type": "code",
   "execution_count": 19,
   "id": "1a3bead8",
   "metadata": {},
   "outputs": [],
   "source": [
    "driver.get(\"https://www.flipkart.com/realme-narzo-50a-oxygen-blue-64-gb/product-reviews/itm81d679403c2b4?pid=MOBG6MY4UGGFQWYY&lid=LSTMOBG6MY4UGGFQWYYNSGSOP&marketplace=FLIPKART\")"
   ]
  },
  {
   "cell_type": "code",
   "execution_count": 20,
   "id": "cede051a",
   "metadata": {},
   "outputs": [],
   "source": [
    "time.sleep(10)\n",
    "#fetching Ratings\n",
    "name=driver.find_elements_by_xpath('//div[@class=\"col _2wzgFH K0kLPL\"]/div[1]/div')\n",
    "for i in name:\n",
    "    Ratings.append(i.text)\n",
    "#fetching Reviews\n",
    "name1=driver.find_elements_by_xpath('//div[@class=\"t-ZTKy\"]/div/div')\n",
    "for i in name1:\n",
    "    Reviews.append(i.text)"
   ]
  },
  {
   "cell_type": "code",
   "execution_count": 126,
   "id": "725e838a",
   "metadata": {},
   "outputs": [],
   "source": [
    "driver.get(\"https://www.flipkart.com/realme-narzo-50a-oxygen-blue-64-gb/product-reviews/itm81d679403c2b4?pid=MOBG6MY4UGGFQWYY&lid=LSTMOBG6MY4UGGFQWYYNSGSOP&marketplace=FLIPKART&page=2\")"
   ]
  },
  {
   "cell_type": "code",
   "execution_count": 131,
   "id": "22f37cc0",
   "metadata": {},
   "outputs": [],
   "source": [
    "Url=[]\n",
    "for i in range(0,2,1):\n",
    "    time.sleep(10)\n",
    "    #fetching Ratings\n",
    "    name=driver.find_elements_by_xpath('//div[@class=\"col _2wzgFH K0kLPL\"]/div[1]/div')\n",
    "    for j in name:\n",
    "        Ratings.append(j.text)\n",
    "    #fetching Reviews\n",
    "    name1=driver.find_elements_by_xpath('//div[@class=\"t-ZTKy\"]/div/div')\n",
    "    for k in name1:\n",
    "        Reviews.append(k.text)\n",
    "    next1=driver.find_element_by_xpath(\"//a[@class='_1LKTO3']\")\n",
    "    Url.append(next1.get_attribute(\"href\"))\n",
    "    btn=driver.find_element_by_xpath('/html/body/div/div/div[3]/div/div/div[2]/div[13]/div/div/nav/a[12]')\n",
    "    btn.click()"
   ]
  },
  {
   "cell_type": "code",
   "execution_count": 132,
   "id": "2d4835ea",
   "metadata": {},
   "outputs": [
    {
     "data": {
      "text/plain": [
       "(3024, 3024)"
      ]
     },
     "execution_count": 132,
     "metadata": {},
     "output_type": "execute_result"
    }
   ],
   "source": [
    "len(Ratings),len(Reviews)"
   ]
  },
  {
   "cell_type": "code",
   "execution_count": 133,
   "id": "6dfdc27f",
   "metadata": {},
   "outputs": [
    {
     "data": {
      "text/html": [
       "<div>\n",
       "<style scoped>\n",
       "    .dataframe tbody tr th:only-of-type {\n",
       "        vertical-align: middle;\n",
       "    }\n",
       "\n",
       "    .dataframe tbody tr th {\n",
       "        vertical-align: top;\n",
       "    }\n",
       "\n",
       "    .dataframe thead th {\n",
       "        text-align: right;\n",
       "    }\n",
       "</style>\n",
       "<table border=\"1\" class=\"dataframe\">\n",
       "  <thead>\n",
       "    <tr style=\"text-align: right;\">\n",
       "      <th></th>\n",
       "      <th>Reviews</th>\n",
       "      <th>Ratings</th>\n",
       "    </tr>\n",
       "  </thead>\n",
       "  <tbody>\n",
       "    <tr>\n",
       "      <th>0</th>\n",
       "      <td>Thanks again Flipkart team the wonderful deliv...</td>\n",
       "      <td>4</td>\n",
       "    </tr>\n",
       "    <tr>\n",
       "      <th>1</th>\n",
       "      <td>Camera 4/5 if u able to set it properly\\nBatte...</td>\n",
       "      <td>5</td>\n",
       "    </tr>\n",
       "    <tr>\n",
       "      <th>2</th>\n",
       "      <td>Very nice mobile and battry is very extra powa...</td>\n",
       "      <td>5</td>\n",
       "    </tr>\n",
       "    <tr>\n",
       "      <th>3</th>\n",
       "      <td>Excellent!!\\nVery good mobile. I ordered it to...</td>\n",
       "      <td>5</td>\n",
       "    </tr>\n",
       "    <tr>\n",
       "      <th>4</th>\n",
       "      <td>Positive sides :\\n1. Battery is very very powe...</td>\n",
       "      <td>4</td>\n",
       "    </tr>\n",
       "    <tr>\n",
       "      <th>...</th>\n",
       "      <td>...</td>\n",
       "      <td>...</td>\n",
       "    </tr>\n",
       "    <tr>\n",
       "      <th>3019</th>\n",
       "      <td>Good ok</td>\n",
       "      <td>4</td>\n",
       "    </tr>\n",
       "    <tr>\n",
       "      <th>3020</th>\n",
       "      <td>Good</td>\n",
       "      <td>3</td>\n",
       "    </tr>\n",
       "    <tr>\n",
       "      <th>3021</th>\n",
       "      <td>good</td>\n",
       "      <td>5</td>\n",
       "    </tr>\n",
       "    <tr>\n",
       "      <th>3022</th>\n",
       "      <td>Nice 👍👍👍👍</td>\n",
       "      <td>5</td>\n",
       "    </tr>\n",
       "    <tr>\n",
       "      <th>3023</th>\n",
       "      <td>Over all nice</td>\n",
       "      <td>5</td>\n",
       "    </tr>\n",
       "  </tbody>\n",
       "</table>\n",
       "<p>3024 rows × 2 columns</p>\n",
       "</div>"
      ],
      "text/plain": [
       "                                                Reviews Ratings\n",
       "0     Thanks again Flipkart team the wonderful deliv...       4\n",
       "1     Camera 4/5 if u able to set it properly\\nBatte...       5\n",
       "2     Very nice mobile and battry is very extra powa...       5\n",
       "3     Excellent!!\\nVery good mobile. I ordered it to...       5\n",
       "4     Positive sides :\\n1. Battery is very very powe...       4\n",
       "...                                                 ...     ...\n",
       "3019                                            Good ok       4\n",
       "3020                                               Good       3\n",
       "3021                                               good       5\n",
       "3022                                          Nice 👍👍👍👍       5\n",
       "3023                                      Over all nice       5\n",
       "\n",
       "[3024 rows x 2 columns]"
      ]
     },
     "execution_count": 133,
     "metadata": {},
     "output_type": "execute_result"
    }
   ],
   "source": [
    "Product1=pd.DataFrame()\n",
    "Product1['Reviews']= Reviews\n",
    "Product1['Ratings']= Ratings\n",
    "Product1"
   ]
  },
  {
   "cell_type": "code",
   "execution_count": 134,
   "id": "5b0f06d8",
   "metadata": {},
   "outputs": [],
   "source": [
    "Product1.to_csv('Ratings.csv',index = False)"
   ]
  },
  {
   "cell_type": "code",
   "execution_count": 135,
   "id": "e74c5322",
   "metadata": {},
   "outputs": [],
   "source": [
    "url='https://www.flipkart.com/'\n",
    "driver.get(url)"
   ]
  },
  {
   "cell_type": "code",
   "execution_count": 136,
   "id": "ffe4f829",
   "metadata": {},
   "outputs": [
    {
     "data": {
      "text/plain": [
       "<selenium.webdriver.remote.webelement.WebElement (session=\"cdd1b7e025dc340eb57a79eaf87d6cdf\", element=\"059e187e-f494-4a67-b419-0793fed4c5c7\")>"
      ]
     },
     "execution_count": 136,
     "metadata": {},
     "output_type": "execute_result"
    }
   ],
   "source": [
    "Search=driver.find_element_by_xpath('/html/body/div[1]/div/div[1]/div[1]/div[2]/div[2]/form/div/div/input')\n",
    "Search"
   ]
  },
  {
   "cell_type": "code",
   "execution_count": 137,
   "id": "44c7d99c",
   "metadata": {},
   "outputs": [
    {
     "name": "stdout",
     "output_type": "stream",
     "text": [
      "Please search here laptop\n",
      "User input:- laptop\n"
     ]
    }
   ],
   "source": [
    "name=input(\"Please search here \")\n",
    "print(\"User input:-\", name)"
   ]
  },
  {
   "cell_type": "code",
   "execution_count": 138,
   "id": "1e910107",
   "metadata": {},
   "outputs": [],
   "source": [
    "Search.send_keys(name)"
   ]
  },
  {
   "cell_type": "code",
   "execution_count": 139,
   "id": "0970deef",
   "metadata": {},
   "outputs": [
    {
     "data": {
      "text/plain": [
       "<selenium.webdriver.remote.webelement.WebElement (session=\"cdd1b7e025dc340eb57a79eaf87d6cdf\", element=\"717aa5fc-16d1-4eb5-ab81-a241775394aa\")>"
      ]
     },
     "execution_count": 139,
     "metadata": {},
     "output_type": "execute_result"
    }
   ],
   "source": [
    "all_btn=driver.find_element_by_xpath('/html/body/div[1]/div/div[1]/div[1]/div[2]/div[2]/form/div/button')\n",
    "all_btn"
   ]
  },
  {
   "cell_type": "code",
   "execution_count": 140,
   "id": "23f62e8e",
   "metadata": {},
   "outputs": [],
   "source": [
    "all_btn.click()"
   ]
  },
  {
   "cell_type": "code",
   "execution_count": 141,
   "id": "798a4a10",
   "metadata": {},
   "outputs": [],
   "source": [
    "driver.get(\"https://www.flipkart.com/infinix-inbook-x1-core-i3-10th-gen-8-gb-256-gb-ssd-windows-11-home-xl11-thin-light-laptop/product-reviews/itm47c3552538092?pid=COMG8Z3H5HDHFPHQ&lid=LSTCOMG8Z3H5HDHFPHQSWUHWZ&marketplace=FLIPKART\")"
   ]
  },
  {
   "cell_type": "code",
   "execution_count": 142,
   "id": "63a85f96",
   "metadata": {},
   "outputs": [],
   "source": [
    "time.sleep(10)\n",
    "#fetching Ratings\n",
    "name=driver.find_elements_by_xpath('//div[@class=\"col _2wzgFH K0kLPL\"]/div[1]/div')\n",
    "for i in name:\n",
    "    Ratings.append(i.text)\n",
    "#fetching Reviews\n",
    "name1=driver.find_elements_by_xpath('//div[@class=\"t-ZTKy\"]/div/div')\n",
    "for i in name1:\n",
    "    Reviews.append(i.text)"
   ]
  },
  {
   "cell_type": "code",
   "execution_count": 180,
   "id": "1c356076",
   "metadata": {},
   "outputs": [],
   "source": [
    "driver.get(\"https://www.flipkart.com/asus-celeron-dual-core-4-gb-1-tb-hdd-windows-10-home-x543ma-gq1015t-laptop/product-reviews/itmf8811674edbeb?pid=COMFSKF9UQH8RKYF&lid=LSTCOMFSKF9UQH8RKYFZNEOSL&marketplace=FLIPKART\")"
   ]
  },
  {
   "cell_type": "code",
   "execution_count": 219,
   "id": "1160da2e",
   "metadata": {},
   "outputs": [
    {
     "ename": "NoSuchElementException",
     "evalue": "Message: no such element: Unable to locate element: {\"method\":\"xpath\",\"selector\":\"/html/body/div/div/div[3]/div/div/div[2]/div[13]/div/div/nav/a[11]\"}\n  (Session info: chrome=102.0.5005.63)\nStacktrace:\nBacktrace:\n\tOrdinal0 [0x00D4D953+2414931]\n\tOrdinal0 [0x00CDF5E1+1963489]\n\tOrdinal0 [0x00BCC6B8+837304]\n\tOrdinal0 [0x00BF9500+1021184]\n\tOrdinal0 [0x00BF979B+1021851]\n\tOrdinal0 [0x00C26502+1205506]\n\tOrdinal0 [0x00C144E4+1131748]\n\tOrdinal0 [0x00C24812+1198098]\n\tOrdinal0 [0x00C142B6+1131190]\n\tOrdinal0 [0x00BEE860+976992]\n\tOrdinal0 [0x00BEF756+980822]\n\tGetHandleVerifier [0x00FBCC62+2510274]\n\tGetHandleVerifier [0x00FAF760+2455744]\n\tGetHandleVerifier [0x00DDEABA+551962]\n\tGetHandleVerifier [0x00DDD916+547446]\n\tOrdinal0 [0x00CE5F3B+1990459]\n\tOrdinal0 [0x00CEA898+2009240]\n\tOrdinal0 [0x00CEA985+2009477]\n\tOrdinal0 [0x00CF3AD1+2046673]\n\tBaseThreadInitThunk [0x75AB919F+14]\n\tRtlInitializeExceptionChain [0x77E3AB8F+143]\n\tRtlInitializeExceptionChain [0x77E3AB5A+90]\n",
     "output_type": "error",
     "traceback": [
      "\u001b[1;31m---------------------------------------------------------------------------\u001b[0m",
      "\u001b[1;31mNoSuchElementException\u001b[0m                    Traceback (most recent call last)",
      "Input \u001b[1;32mIn [219]\u001b[0m, in \u001b[0;36m<cell line: 2>\u001b[1;34m()\u001b[0m\n\u001b[0;32m     12\u001b[0m next1\u001b[38;5;241m=\u001b[39mdriver\u001b[38;5;241m.\u001b[39mfind_element_by_xpath(\u001b[38;5;124m\"\u001b[39m\u001b[38;5;124m//a[@class=\u001b[39m\u001b[38;5;124m'\u001b[39m\u001b[38;5;124m_1LKTO3\u001b[39m\u001b[38;5;124m'\u001b[39m\u001b[38;5;124m]\u001b[39m\u001b[38;5;124m\"\u001b[39m)\n\u001b[0;32m     13\u001b[0m Url\u001b[38;5;241m.\u001b[39mappend(next1\u001b[38;5;241m.\u001b[39mget_attribute(\u001b[38;5;124m\"\u001b[39m\u001b[38;5;124mhref\u001b[39m\u001b[38;5;124m\"\u001b[39m))\n\u001b[1;32m---> 14\u001b[0m btn\u001b[38;5;241m=\u001b[39m\u001b[43mdriver\u001b[49m\u001b[38;5;241;43m.\u001b[39;49m\u001b[43mfind_element_by_xpath\u001b[49m\u001b[43m(\u001b[49m\u001b[38;5;124;43m'\u001b[39;49m\u001b[38;5;124;43m/html/body/div/div/div[3]/div/div/div[2]/div[13]/div/div/nav/a[11]\u001b[39;49m\u001b[38;5;124;43m'\u001b[39;49m\u001b[43m)\u001b[49m\n\u001b[0;32m     15\u001b[0m btn\u001b[38;5;241m.\u001b[39mclick()\n",
      "File \u001b[1;32m~\\anaconda3\\lib\\site-packages\\selenium\\webdriver\\remote\\webdriver.py:520\u001b[0m, in \u001b[0;36mWebDriver.find_element_by_xpath\u001b[1;34m(self, xpath)\u001b[0m\n\u001b[0;32m    498\u001b[0m \u001b[38;5;124;03m\"\"\"\u001b[39;00m\n\u001b[0;32m    499\u001b[0m \u001b[38;5;124;03mFinds an element by xpath.\u001b[39;00m\n\u001b[0;32m    500\u001b[0m \n\u001b[1;32m   (...)\u001b[0m\n\u001b[0;32m    513\u001b[0m \u001b[38;5;124;03m        element = driver.find_element_by_xpath('//div/td[1]')\u001b[39;00m\n\u001b[0;32m    514\u001b[0m \u001b[38;5;124;03m\"\"\"\u001b[39;00m\n\u001b[0;32m    515\u001b[0m warnings\u001b[38;5;241m.\u001b[39mwarn(\n\u001b[0;32m    516\u001b[0m     \u001b[38;5;124m\"\u001b[39m\u001b[38;5;124mfind_element_by_* commands are deprecated. Please use find_element() instead\u001b[39m\u001b[38;5;124m\"\u001b[39m,\n\u001b[0;32m    517\u001b[0m     \u001b[38;5;167;01mDeprecationWarning\u001b[39;00m,\n\u001b[0;32m    518\u001b[0m     stacklevel\u001b[38;5;241m=\u001b[39m\u001b[38;5;241m2\u001b[39m,\n\u001b[0;32m    519\u001b[0m )\n\u001b[1;32m--> 520\u001b[0m \u001b[38;5;28;01mreturn\u001b[39;00m \u001b[38;5;28;43mself\u001b[39;49m\u001b[38;5;241;43m.\u001b[39;49m\u001b[43mfind_element\u001b[49m\u001b[43m(\u001b[49m\u001b[43mby\u001b[49m\u001b[38;5;241;43m=\u001b[39;49m\u001b[43mBy\u001b[49m\u001b[38;5;241;43m.\u001b[39;49m\u001b[43mXPATH\u001b[49m\u001b[43m,\u001b[49m\u001b[43m \u001b[49m\u001b[43mvalue\u001b[49m\u001b[38;5;241;43m=\u001b[39;49m\u001b[43mxpath\u001b[49m\u001b[43m)\u001b[49m\n",
      "File \u001b[1;32m~\\anaconda3\\lib\\site-packages\\selenium\\webdriver\\remote\\webdriver.py:1244\u001b[0m, in \u001b[0;36mWebDriver.find_element\u001b[1;34m(self, by, value)\u001b[0m\n\u001b[0;32m   1241\u001b[0m     by \u001b[38;5;241m=\u001b[39m By\u001b[38;5;241m.\u001b[39mCSS_SELECTOR\n\u001b[0;32m   1242\u001b[0m     value \u001b[38;5;241m=\u001b[39m \u001b[38;5;124m'\u001b[39m\u001b[38;5;124m[name=\u001b[39m\u001b[38;5;124m\"\u001b[39m\u001b[38;5;132;01m%s\u001b[39;00m\u001b[38;5;124m\"\u001b[39m\u001b[38;5;124m]\u001b[39m\u001b[38;5;124m'\u001b[39m \u001b[38;5;241m%\u001b[39m value\n\u001b[1;32m-> 1244\u001b[0m \u001b[38;5;28;01mreturn\u001b[39;00m \u001b[38;5;28;43mself\u001b[39;49m\u001b[38;5;241;43m.\u001b[39;49m\u001b[43mexecute\u001b[49m\u001b[43m(\u001b[49m\u001b[43mCommand\u001b[49m\u001b[38;5;241;43m.\u001b[39;49m\u001b[43mFIND_ELEMENT\u001b[49m\u001b[43m,\u001b[49m\u001b[43m \u001b[49m\u001b[43m{\u001b[49m\n\u001b[0;32m   1245\u001b[0m \u001b[43m    \u001b[49m\u001b[38;5;124;43m'\u001b[39;49m\u001b[38;5;124;43musing\u001b[39;49m\u001b[38;5;124;43m'\u001b[39;49m\u001b[43m:\u001b[49m\u001b[43m \u001b[49m\u001b[43mby\u001b[49m\u001b[43m,\u001b[49m\n\u001b[0;32m   1246\u001b[0m \u001b[43m    \u001b[49m\u001b[38;5;124;43m'\u001b[39;49m\u001b[38;5;124;43mvalue\u001b[39;49m\u001b[38;5;124;43m'\u001b[39;49m\u001b[43m:\u001b[49m\u001b[43m \u001b[49m\u001b[43mvalue\u001b[49m\u001b[43m}\u001b[49m\u001b[43m)\u001b[49m[\u001b[38;5;124m'\u001b[39m\u001b[38;5;124mvalue\u001b[39m\u001b[38;5;124m'\u001b[39m]\n",
      "File \u001b[1;32m~\\anaconda3\\lib\\site-packages\\selenium\\webdriver\\remote\\webdriver.py:424\u001b[0m, in \u001b[0;36mWebDriver.execute\u001b[1;34m(self, driver_command, params)\u001b[0m\n\u001b[0;32m    422\u001b[0m response \u001b[38;5;241m=\u001b[39m \u001b[38;5;28mself\u001b[39m\u001b[38;5;241m.\u001b[39mcommand_executor\u001b[38;5;241m.\u001b[39mexecute(driver_command, params)\n\u001b[0;32m    423\u001b[0m \u001b[38;5;28;01mif\u001b[39;00m response:\n\u001b[1;32m--> 424\u001b[0m     \u001b[38;5;28;43mself\u001b[39;49m\u001b[38;5;241;43m.\u001b[39;49m\u001b[43merror_handler\u001b[49m\u001b[38;5;241;43m.\u001b[39;49m\u001b[43mcheck_response\u001b[49m\u001b[43m(\u001b[49m\u001b[43mresponse\u001b[49m\u001b[43m)\u001b[49m\n\u001b[0;32m    425\u001b[0m     response[\u001b[38;5;124m'\u001b[39m\u001b[38;5;124mvalue\u001b[39m\u001b[38;5;124m'\u001b[39m] \u001b[38;5;241m=\u001b[39m \u001b[38;5;28mself\u001b[39m\u001b[38;5;241m.\u001b[39m_unwrap_value(\n\u001b[0;32m    426\u001b[0m         response\u001b[38;5;241m.\u001b[39mget(\u001b[38;5;124m'\u001b[39m\u001b[38;5;124mvalue\u001b[39m\u001b[38;5;124m'\u001b[39m, \u001b[38;5;28;01mNone\u001b[39;00m))\n\u001b[0;32m    427\u001b[0m     \u001b[38;5;28;01mreturn\u001b[39;00m response\n",
      "File \u001b[1;32m~\\anaconda3\\lib\\site-packages\\selenium\\webdriver\\remote\\errorhandler.py:247\u001b[0m, in \u001b[0;36mErrorHandler.check_response\u001b[1;34m(self, response)\u001b[0m\n\u001b[0;32m    245\u001b[0m         alert_text \u001b[38;5;241m=\u001b[39m value[\u001b[38;5;124m'\u001b[39m\u001b[38;5;124malert\u001b[39m\u001b[38;5;124m'\u001b[39m]\u001b[38;5;241m.\u001b[39mget(\u001b[38;5;124m'\u001b[39m\u001b[38;5;124mtext\u001b[39m\u001b[38;5;124m'\u001b[39m)\n\u001b[0;32m    246\u001b[0m     \u001b[38;5;28;01mraise\u001b[39;00m exception_class(message, screen, stacktrace, alert_text)  \u001b[38;5;66;03m# type: ignore[call-arg]  # mypy is not smart enough here\u001b[39;00m\n\u001b[1;32m--> 247\u001b[0m \u001b[38;5;28;01mraise\u001b[39;00m exception_class(message, screen, stacktrace)\n",
      "\u001b[1;31mNoSuchElementException\u001b[0m: Message: no such element: Unable to locate element: {\"method\":\"xpath\",\"selector\":\"/html/body/div/div/div[3]/div/div/div[2]/div[13]/div/div/nav/a[11]\"}\n  (Session info: chrome=102.0.5005.63)\nStacktrace:\nBacktrace:\n\tOrdinal0 [0x00D4D953+2414931]\n\tOrdinal0 [0x00CDF5E1+1963489]\n\tOrdinal0 [0x00BCC6B8+837304]\n\tOrdinal0 [0x00BF9500+1021184]\n\tOrdinal0 [0x00BF979B+1021851]\n\tOrdinal0 [0x00C26502+1205506]\n\tOrdinal0 [0x00C144E4+1131748]\n\tOrdinal0 [0x00C24812+1198098]\n\tOrdinal0 [0x00C142B6+1131190]\n\tOrdinal0 [0x00BEE860+976992]\n\tOrdinal0 [0x00BEF756+980822]\n\tGetHandleVerifier [0x00FBCC62+2510274]\n\tGetHandleVerifier [0x00FAF760+2455744]\n\tGetHandleVerifier [0x00DDEABA+551962]\n\tGetHandleVerifier [0x00DDD916+547446]\n\tOrdinal0 [0x00CE5F3B+1990459]\n\tOrdinal0 [0x00CEA898+2009240]\n\tOrdinal0 [0x00CEA985+2009477]\n\tOrdinal0 [0x00CF3AD1+2046673]\n\tBaseThreadInitThunk [0x75AB919F+14]\n\tRtlInitializeExceptionChain [0x77E3AB8F+143]\n\tRtlInitializeExceptionChain [0x77E3AB5A+90]\n"
     ]
    }
   ],
   "source": [
    "Url=[]\n",
    "for i in range(0,3,1):\n",
    "    time.sleep(10)\n",
    "    #fetching Ratings\n",
    "    name=driver.find_elements_by_xpath('//div[@class=\"col _2wzgFH K0kLPL\"]/div[1]/div')\n",
    "    for j in name:\n",
    "        Ratings.append(j.text)\n",
    "    #fetching Reviews\n",
    "    name1=driver.find_elements_by_xpath('//div[@class=\"t-ZTKy\"]/div/div')\n",
    "    for k in name1:\n",
    "        Reviews.append(k.text)\n",
    "    next1=driver.find_element_by_xpath(\"//a[@class='_1LKTO3']\")\n",
    "    Url.append(next1.get_attribute(\"href\"))\n",
    "    btn=driver.find_element_by_xpath('/html/body/div/div/div[3]/div/div/div[2]/div[13]/div/div/nav/a[11]')\n",
    "    btn.click()"
   ]
  },
  {
   "cell_type": "code",
   "execution_count": 220,
   "id": "29209abc",
   "metadata": {},
   "outputs": [
    {
     "data": {
      "text/plain": [
       "(6540, 6540)"
      ]
     },
     "execution_count": 220,
     "metadata": {},
     "output_type": "execute_result"
    }
   ],
   "source": [
    "len(Ratings),len(Reviews)"
   ]
  },
  {
   "cell_type": "code",
   "execution_count": 221,
   "id": "cf478333",
   "metadata": {},
   "outputs": [
    {
     "data": {
      "text/html": [
       "<div>\n",
       "<style scoped>\n",
       "    .dataframe tbody tr th:only-of-type {\n",
       "        vertical-align: middle;\n",
       "    }\n",
       "\n",
       "    .dataframe tbody tr th {\n",
       "        vertical-align: top;\n",
       "    }\n",
       "\n",
       "    .dataframe thead th {\n",
       "        text-align: right;\n",
       "    }\n",
       "</style>\n",
       "<table border=\"1\" class=\"dataframe\">\n",
       "  <thead>\n",
       "    <tr style=\"text-align: right;\">\n",
       "      <th></th>\n",
       "      <th>Reviews</th>\n",
       "      <th>Ratings</th>\n",
       "    </tr>\n",
       "  </thead>\n",
       "  <tbody>\n",
       "    <tr>\n",
       "      <th>0</th>\n",
       "      <td>Thanks again Flipkart team the wonderful deliv...</td>\n",
       "      <td>4</td>\n",
       "    </tr>\n",
       "    <tr>\n",
       "      <th>1</th>\n",
       "      <td>Camera 4/5 if u able to set it properly\\nBatte...</td>\n",
       "      <td>5</td>\n",
       "    </tr>\n",
       "    <tr>\n",
       "      <th>2</th>\n",
       "      <td>Very nice mobile and battry is very extra powa...</td>\n",
       "      <td>5</td>\n",
       "    </tr>\n",
       "    <tr>\n",
       "      <th>3</th>\n",
       "      <td>Excellent!!\\nVery good mobile. I ordered it to...</td>\n",
       "      <td>5</td>\n",
       "    </tr>\n",
       "    <tr>\n",
       "      <th>4</th>\n",
       "      <td>Positive sides :\\n1. Battery is very very powe...</td>\n",
       "      <td>4</td>\n",
       "    </tr>\n",
       "    <tr>\n",
       "      <th>...</th>\n",
       "      <td>...</td>\n",
       "      <td>...</td>\n",
       "    </tr>\n",
       "    <tr>\n",
       "      <th>6535</th>\n",
       "      <td>Nice product looking &amp; average Proformence bet...</td>\n",
       "      <td>5</td>\n",
       "    </tr>\n",
       "    <tr>\n",
       "      <th>6536</th>\n",
       "      <td>Good For Small Office Work like\\nTally , MS OF...</td>\n",
       "      <td>5</td>\n",
       "    </tr>\n",
       "    <tr>\n",
       "      <th>6537</th>\n",
       "      <td>Good laptop for this budget...\\n1. Battery lif...</td>\n",
       "      <td>5</td>\n",
       "    </tr>\n",
       "    <tr>\n",
       "      <th>6538</th>\n",
       "      <td>Good laptop for this price range. Multi taskin...</td>\n",
       "      <td>5</td>\n",
       "    </tr>\n",
       "    <tr>\n",
       "      <th>6539</th>\n",
       "      <td>Product delivery is very late.\\nProduct batter...</td>\n",
       "      <td>1</td>\n",
       "    </tr>\n",
       "  </tbody>\n",
       "</table>\n",
       "<p>6540 rows × 2 columns</p>\n",
       "</div>"
      ],
      "text/plain": [
       "                                                Reviews Ratings\n",
       "0     Thanks again Flipkart team the wonderful deliv...       4\n",
       "1     Camera 4/5 if u able to set it properly\\nBatte...       5\n",
       "2     Very nice mobile and battry is very extra powa...       5\n",
       "3     Excellent!!\\nVery good mobile. I ordered it to...       5\n",
       "4     Positive sides :\\n1. Battery is very very powe...       4\n",
       "...                                                 ...     ...\n",
       "6535  Nice product looking & average Proformence bet...       5\n",
       "6536  Good For Small Office Work like\\nTally , MS OF...       5\n",
       "6537  Good laptop for this budget...\\n1. Battery lif...       5\n",
       "6538  Good laptop for this price range. Multi taskin...       5\n",
       "6539  Product delivery is very late.\\nProduct batter...       1\n",
       "\n",
       "[6540 rows x 2 columns]"
      ]
     },
     "execution_count": 221,
     "metadata": {},
     "output_type": "execute_result"
    }
   ],
   "source": [
    "Product1=pd.DataFrame()\n",
    "Product1['Reviews']= Reviews\n",
    "Product1['Ratings']= Ratings\n",
    "Product1"
   ]
  },
  {
   "cell_type": "code",
   "execution_count": 222,
   "id": "cdf2e37e",
   "metadata": {},
   "outputs": [],
   "source": [
    "Product1.to_csv('Ratings.csv',index = False)"
   ]
  },
  {
   "cell_type": "code",
   "execution_count": 224,
   "id": "76594bfe",
   "metadata": {},
   "outputs": [],
   "source": [
    "url='https://www.flipkart.com/'\n",
    "driver.get(url)"
   ]
  },
  {
   "cell_type": "code",
   "execution_count": 225,
   "id": "b6f61f32",
   "metadata": {},
   "outputs": [
    {
     "data": {
      "text/plain": [
       "<selenium.webdriver.remote.webelement.WebElement (session=\"ca21ec9e17255f3eeaa25dca9edf5f9c\", element=\"b691cbc5-4702-494b-b1a1-2daabe715521\")>"
      ]
     },
     "execution_count": 225,
     "metadata": {},
     "output_type": "execute_result"
    }
   ],
   "source": [
    "Search=driver.find_element_by_xpath('/html/body/div[1]/div/div[1]/div[1]/div[2]/div[2]/form/div/div/input')\n",
    "Search"
   ]
  },
  {
   "cell_type": "code",
   "execution_count": 226,
   "id": "8041f109",
   "metadata": {},
   "outputs": [
    {
     "name": "stdout",
     "output_type": "stream",
     "text": [
      "Please search here TV\n",
      "User input:- TV\n"
     ]
    }
   ],
   "source": [
    "name=input(\"Please search here \")\n",
    "print(\"User input:-\", name)"
   ]
  },
  {
   "cell_type": "code",
   "execution_count": 227,
   "id": "ea853411",
   "metadata": {},
   "outputs": [],
   "source": [
    "Search.send_keys(name)"
   ]
  },
  {
   "cell_type": "code",
   "execution_count": 228,
   "id": "9335f10b",
   "metadata": {},
   "outputs": [
    {
     "data": {
      "text/plain": [
       "<selenium.webdriver.remote.webelement.WebElement (session=\"ca21ec9e17255f3eeaa25dca9edf5f9c\", element=\"a54cd1a8-28b8-4895-997b-bda96863b40f\")>"
      ]
     },
     "execution_count": 228,
     "metadata": {},
     "output_type": "execute_result"
    }
   ],
   "source": [
    "all_btn=driver.find_element_by_xpath('/html/body/div[1]/div/div[1]/div[1]/div[2]/div[2]/form/div/button')\n",
    "all_btn"
   ]
  },
  {
   "cell_type": "code",
   "execution_count": 229,
   "id": "e99118a3",
   "metadata": {},
   "outputs": [],
   "source": [
    "all_btn.click()"
   ]
  },
  {
   "cell_type": "code",
   "execution_count": 231,
   "id": "c78c430e",
   "metadata": {},
   "outputs": [],
   "source": [
    "driver.get(\"https://www.flipkart.com/oneplus-y1-108-cm-43-inch-full-hd-led-smart-android-tv/product-reviews/itme3bf85dc7fef6?pid=TVSFVWD2GRQEG462&lid=LSTTVSFVWD2GRQEG462VSJDDU&marketplace=FLIPKART\")"
   ]
  },
  {
   "cell_type": "code",
   "execution_count": 232,
   "id": "063fef3c",
   "metadata": {},
   "outputs": [],
   "source": [
    "time.sleep(10)\n",
    "#fetching Ratings\n",
    "name=driver.find_elements_by_xpath('//div[@class=\"col _2wzgFH K0kLPL\"]/div[1]/div')\n",
    "for i in name:\n",
    "    Ratings.append(i.text)\n",
    "#fetching Reviews\n",
    "name1=driver.find_elements_by_xpath('//div[@class=\"t-ZTKy\"]/div/div')\n",
    "for i in name1:\n",
    "    Reviews.append(i.text)"
   ]
  },
  {
   "cell_type": "code",
   "execution_count": 275,
   "id": "961606e4",
   "metadata": {},
   "outputs": [],
   "source": [
    "driver.get(\"https://www.flipkart.com/oneplus-y1-108-cm-43-inch-full-hd-led-smart-android-tv/product-reviews/itme3bf85dc7fef6?pid=TVSFVWD2GRQEG462&lid=LSTTVSFVWD2GRQEG462VSJDDU&aid=overall&certifiedBuyer=false&sortOrder=NEGATIVE_FIRST\")"
   ]
  },
  {
   "cell_type": "code",
   "execution_count": 63,
   "id": "4c2fc505",
   "metadata": {},
   "outputs": [
    {
     "ename": "NoSuchWindowException",
     "evalue": "Message: no such window: window was already closed\n  (Session info: chrome=102.0.5005.63)\nStacktrace:\nBacktrace:\n\tOrdinal0 [0x0034D953+2414931]\n\tOrdinal0 [0x002DF5E1+1963489]\n\tOrdinal0 [0x001CC6B8+837304]\n\tOrdinal0 [0x001C1296+791190]\n\tOrdinal0 [0x001C22F2+795378]\n\tOrdinal0 [0x001BBCA9+769193]\n\tOrdinal0 [0x001CDA30+842288]\n\tOrdinal0 [0x00223FF2+1196018]\n\tOrdinal0 [0x002142B6+1131190]\n\tOrdinal0 [0x001EE860+976992]\n\tOrdinal0 [0x001EF756+980822]\n\tGetHandleVerifier [0x005BCC62+2510274]\n\tGetHandleVerifier [0x005AF760+2455744]\n\tGetHandleVerifier [0x003DEABA+551962]\n\tGetHandleVerifier [0x003DD916+547446]\n\tOrdinal0 [0x002E5F3B+1990459]\n\tOrdinal0 [0x002EA898+2009240]\n\tOrdinal0 [0x002EA985+2009477]\n\tOrdinal0 [0x002F3AD1+2046673]\n\tBaseThreadInitThunk [0x754F919F+14]\n\tRtlInitializeExceptionChain [0x779CAB8F+143]\n\tRtlInitializeExceptionChain [0x779CAB5A+90]\n",
     "output_type": "error",
     "traceback": [
      "\u001b[1;31m---------------------------------------------------------------------------\u001b[0m",
      "\u001b[1;31mNoSuchWindowException\u001b[0m                     Traceback (most recent call last)",
      "Input \u001b[1;32mIn [63]\u001b[0m, in \u001b[0;36m<cell line: 2>\u001b[1;34m()\u001b[0m\n\u001b[0;32m      3\u001b[0m time\u001b[38;5;241m.\u001b[39msleep(\u001b[38;5;241m10\u001b[39m)\n\u001b[0;32m      4\u001b[0m \u001b[38;5;66;03m#fetching Ratings\u001b[39;00m\n\u001b[1;32m----> 5\u001b[0m name\u001b[38;5;241m=\u001b[39m\u001b[43mdriver\u001b[49m\u001b[38;5;241;43m.\u001b[39;49m\u001b[43mfind_elements_by_xpath\u001b[49m\u001b[43m(\u001b[49m\u001b[38;5;124;43m'\u001b[39;49m\u001b[38;5;124;43m//div[@class=\u001b[39;49m\u001b[38;5;124;43m\"\u001b[39;49m\u001b[38;5;124;43mcol _2wzgFH K0kLPL\u001b[39;49m\u001b[38;5;124;43m\"\u001b[39;49m\u001b[38;5;124;43m]/div[1]/div\u001b[39;49m\u001b[38;5;124;43m'\u001b[39;49m\u001b[43m)\u001b[49m\n\u001b[0;32m      6\u001b[0m \u001b[38;5;28;01mfor\u001b[39;00m j \u001b[38;5;129;01min\u001b[39;00m name:\n\u001b[0;32m      7\u001b[0m     Ratings\u001b[38;5;241m.\u001b[39mappend(j\u001b[38;5;241m.\u001b[39mtext)\n",
      "File \u001b[1;32m~\\anaconda3\\lib\\site-packages\\selenium\\webdriver\\remote\\webdriver.py:543\u001b[0m, in \u001b[0;36mWebDriver.find_elements_by_xpath\u001b[1;34m(self, xpath)\u001b[0m\n\u001b[0;32m    523\u001b[0m \u001b[38;5;124;03m\"\"\"\u001b[39;00m\n\u001b[0;32m    524\u001b[0m \u001b[38;5;124;03mFinds multiple elements by xpath.\u001b[39;00m\n\u001b[0;32m    525\u001b[0m \n\u001b[1;32m   (...)\u001b[0m\n\u001b[0;32m    536\u001b[0m \u001b[38;5;124;03m        elements = driver.find_elements_by_xpath(\"//div[contains(@class, 'foo')]\")\u001b[39;00m\n\u001b[0;32m    537\u001b[0m \u001b[38;5;124;03m\"\"\"\u001b[39;00m\n\u001b[0;32m    538\u001b[0m warnings\u001b[38;5;241m.\u001b[39mwarn(\n\u001b[0;32m    539\u001b[0m     \u001b[38;5;124m\"\u001b[39m\u001b[38;5;124mfind_elements_by_* commands are deprecated. Please use find_elements() instead\u001b[39m\u001b[38;5;124m\"\u001b[39m,\n\u001b[0;32m    540\u001b[0m     \u001b[38;5;167;01mDeprecationWarning\u001b[39;00m,\n\u001b[0;32m    541\u001b[0m     stacklevel\u001b[38;5;241m=\u001b[39m\u001b[38;5;241m2\u001b[39m,\n\u001b[0;32m    542\u001b[0m )\n\u001b[1;32m--> 543\u001b[0m \u001b[38;5;28;01mreturn\u001b[39;00m \u001b[38;5;28;43mself\u001b[39;49m\u001b[38;5;241;43m.\u001b[39;49m\u001b[43mfind_elements\u001b[49m\u001b[43m(\u001b[49m\u001b[43mby\u001b[49m\u001b[38;5;241;43m=\u001b[39;49m\u001b[43mBy\u001b[49m\u001b[38;5;241;43m.\u001b[39;49m\u001b[43mXPATH\u001b[49m\u001b[43m,\u001b[49m\u001b[43m \u001b[49m\u001b[43mvalue\u001b[49m\u001b[38;5;241;43m=\u001b[39;49m\u001b[43mxpath\u001b[49m\u001b[43m)\u001b[49m\n",
      "File \u001b[1;32m~\\anaconda3\\lib\\site-packages\\selenium\\webdriver\\remote\\webdriver.py:1279\u001b[0m, in \u001b[0;36mWebDriver.find_elements\u001b[1;34m(self, by, value)\u001b[0m\n\u001b[0;32m   1275\u001b[0m     value \u001b[38;5;241m=\u001b[39m \u001b[38;5;124m'\u001b[39m\u001b[38;5;124m[name=\u001b[39m\u001b[38;5;124m\"\u001b[39m\u001b[38;5;132;01m%s\u001b[39;00m\u001b[38;5;124m\"\u001b[39m\u001b[38;5;124m]\u001b[39m\u001b[38;5;124m'\u001b[39m \u001b[38;5;241m%\u001b[39m value\n\u001b[0;32m   1277\u001b[0m \u001b[38;5;66;03m# Return empty list if driver returns null\u001b[39;00m\n\u001b[0;32m   1278\u001b[0m \u001b[38;5;66;03m# See https://github.com/SeleniumHQ/selenium/issues/4555\u001b[39;00m\n\u001b[1;32m-> 1279\u001b[0m \u001b[38;5;28;01mreturn\u001b[39;00m \u001b[38;5;28;43mself\u001b[39;49m\u001b[38;5;241;43m.\u001b[39;49m\u001b[43mexecute\u001b[49m\u001b[43m(\u001b[49m\u001b[43mCommand\u001b[49m\u001b[38;5;241;43m.\u001b[39;49m\u001b[43mFIND_ELEMENTS\u001b[49m\u001b[43m,\u001b[49m\u001b[43m \u001b[49m\u001b[43m{\u001b[49m\n\u001b[0;32m   1280\u001b[0m \u001b[43m    \u001b[49m\u001b[38;5;124;43m'\u001b[39;49m\u001b[38;5;124;43musing\u001b[39;49m\u001b[38;5;124;43m'\u001b[39;49m\u001b[43m:\u001b[49m\u001b[43m \u001b[49m\u001b[43mby\u001b[49m\u001b[43m,\u001b[49m\n\u001b[0;32m   1281\u001b[0m \u001b[43m    \u001b[49m\u001b[38;5;124;43m'\u001b[39;49m\u001b[38;5;124;43mvalue\u001b[39;49m\u001b[38;5;124;43m'\u001b[39;49m\u001b[43m:\u001b[49m\u001b[43m \u001b[49m\u001b[43mvalue\u001b[49m\u001b[43m}\u001b[49m\u001b[43m)\u001b[49m[\u001b[38;5;124m'\u001b[39m\u001b[38;5;124mvalue\u001b[39m\u001b[38;5;124m'\u001b[39m] \u001b[38;5;129;01mor\u001b[39;00m []\n",
      "File \u001b[1;32m~\\anaconda3\\lib\\site-packages\\selenium\\webdriver\\remote\\webdriver.py:424\u001b[0m, in \u001b[0;36mWebDriver.execute\u001b[1;34m(self, driver_command, params)\u001b[0m\n\u001b[0;32m    422\u001b[0m response \u001b[38;5;241m=\u001b[39m \u001b[38;5;28mself\u001b[39m\u001b[38;5;241m.\u001b[39mcommand_executor\u001b[38;5;241m.\u001b[39mexecute(driver_command, params)\n\u001b[0;32m    423\u001b[0m \u001b[38;5;28;01mif\u001b[39;00m response:\n\u001b[1;32m--> 424\u001b[0m     \u001b[38;5;28;43mself\u001b[39;49m\u001b[38;5;241;43m.\u001b[39;49m\u001b[43merror_handler\u001b[49m\u001b[38;5;241;43m.\u001b[39;49m\u001b[43mcheck_response\u001b[49m\u001b[43m(\u001b[49m\u001b[43mresponse\u001b[49m\u001b[43m)\u001b[49m\n\u001b[0;32m    425\u001b[0m     response[\u001b[38;5;124m'\u001b[39m\u001b[38;5;124mvalue\u001b[39m\u001b[38;5;124m'\u001b[39m] \u001b[38;5;241m=\u001b[39m \u001b[38;5;28mself\u001b[39m\u001b[38;5;241m.\u001b[39m_unwrap_value(\n\u001b[0;32m    426\u001b[0m         response\u001b[38;5;241m.\u001b[39mget(\u001b[38;5;124m'\u001b[39m\u001b[38;5;124mvalue\u001b[39m\u001b[38;5;124m'\u001b[39m, \u001b[38;5;28;01mNone\u001b[39;00m))\n\u001b[0;32m    427\u001b[0m     \u001b[38;5;28;01mreturn\u001b[39;00m response\n",
      "File \u001b[1;32m~\\anaconda3\\lib\\site-packages\\selenium\\webdriver\\remote\\errorhandler.py:247\u001b[0m, in \u001b[0;36mErrorHandler.check_response\u001b[1;34m(self, response)\u001b[0m\n\u001b[0;32m    245\u001b[0m         alert_text \u001b[38;5;241m=\u001b[39m value[\u001b[38;5;124m'\u001b[39m\u001b[38;5;124malert\u001b[39m\u001b[38;5;124m'\u001b[39m]\u001b[38;5;241m.\u001b[39mget(\u001b[38;5;124m'\u001b[39m\u001b[38;5;124mtext\u001b[39m\u001b[38;5;124m'\u001b[39m)\n\u001b[0;32m    246\u001b[0m     \u001b[38;5;28;01mraise\u001b[39;00m exception_class(message, screen, stacktrace, alert_text)  \u001b[38;5;66;03m# type: ignore[call-arg]  # mypy is not smart enough here\u001b[39;00m\n\u001b[1;32m--> 247\u001b[0m \u001b[38;5;28;01mraise\u001b[39;00m exception_class(message, screen, stacktrace)\n",
      "\u001b[1;31mNoSuchWindowException\u001b[0m: Message: no such window: window was already closed\n  (Session info: chrome=102.0.5005.63)\nStacktrace:\nBacktrace:\n\tOrdinal0 [0x0034D953+2414931]\n\tOrdinal0 [0x002DF5E1+1963489]\n\tOrdinal0 [0x001CC6B8+837304]\n\tOrdinal0 [0x001C1296+791190]\n\tOrdinal0 [0x001C22F2+795378]\n\tOrdinal0 [0x001BBCA9+769193]\n\tOrdinal0 [0x001CDA30+842288]\n\tOrdinal0 [0x00223FF2+1196018]\n\tOrdinal0 [0x002142B6+1131190]\n\tOrdinal0 [0x001EE860+976992]\n\tOrdinal0 [0x001EF756+980822]\n\tGetHandleVerifier [0x005BCC62+2510274]\n\tGetHandleVerifier [0x005AF760+2455744]\n\tGetHandleVerifier [0x003DEABA+551962]\n\tGetHandleVerifier [0x003DD916+547446]\n\tOrdinal0 [0x002E5F3B+1990459]\n\tOrdinal0 [0x002EA898+2009240]\n\tOrdinal0 [0x002EA985+2009477]\n\tOrdinal0 [0x002F3AD1+2046673]\n\tBaseThreadInitThunk [0x754F919F+14]\n\tRtlInitializeExceptionChain [0x779CAB8F+143]\n\tRtlInitializeExceptionChain [0x779CAB5A+90]\n"
     ]
    }
   ],
   "source": [
    "Url=[]\n",
    "for i in range(0,200,1):\n",
    "    time.sleep(10)\n",
    "    #fetching Ratings\n",
    "    name=driver.find_elements_by_xpath('//div[@class=\"col _2wzgFH K0kLPL\"]/div[1]/div')\n",
    "    for j in name:\n",
    "        Ratings.append(j.text)\n",
    "    #fetching Reviews\n",
    "    name1=driver.find_elements_by_xpath('//div[@class=\"t-ZTKy\"]/div/div')\n",
    "    for k in name1:\n",
    "        Reviews.append(k.text)\n",
    "    next1=driver.find_element_by_xpath(\"//a[@class='_1LKTO3']\")\n",
    "    Url.append(next1.get_attribute(\"href\"))\n",
    "    btn=driver.find_element_by_xpath('/html/body/div/div/div[3]/div/div/div[2]/div[13]/div/div/nav/a[12]')\n",
    "    btn.click()"
   ]
  },
  {
   "cell_type": "code",
   "execution_count": 61,
   "id": "3ecd8ba6",
   "metadata": {},
   "outputs": [
    {
     "data": {
      "text/html": [
       "<div>\n",
       "<style scoped>\n",
       "    .dataframe tbody tr th:only-of-type {\n",
       "        vertical-align: middle;\n",
       "    }\n",
       "\n",
       "    .dataframe tbody tr th {\n",
       "        vertical-align: top;\n",
       "    }\n",
       "\n",
       "    .dataframe thead th {\n",
       "        text-align: right;\n",
       "    }\n",
       "</style>\n",
       "<table border=\"1\" class=\"dataframe\">\n",
       "  <thead>\n",
       "    <tr style=\"text-align: right;\">\n",
       "      <th></th>\n",
       "      <th>Reviews</th>\n",
       "      <th>Ratings</th>\n",
       "    </tr>\n",
       "  </thead>\n",
       "  <tbody>\n",
       "    <tr>\n",
       "      <th>0</th>\n",
       "      <td>I bought this GearPods and i am totally satisf...</td>\n",
       "      <td>5</td>\n",
       "    </tr>\n",
       "    <tr>\n",
       "      <th>1</th>\n",
       "      <td>The earbuds have great sound quality. Battery ...</td>\n",
       "      <td>5</td>\n",
       "    </tr>\n",
       "    <tr>\n",
       "      <th>2</th>\n",
       "      <td>Wonderful earbuds, perfectly fit to the ear,so...</td>\n",
       "      <td>5</td>\n",
       "    </tr>\n",
       "    <tr>\n",
       "      <th>3</th>\n",
       "      <td>Let's get to the point , if you're looking for...</td>\n",
       "      <td>4</td>\n",
       "    </tr>\n",
       "    <tr>\n",
       "      <th>4</th>\n",
       "      <td>Very Great Purchase.\\nBattery Backup is Excell...</td>\n",
       "      <td>5</td>\n",
       "    </tr>\n",
       "    <tr>\n",
       "      <th>...</th>\n",
       "      <td>...</td>\n",
       "      <td>...</td>\n",
       "    </tr>\n",
       "    <tr>\n",
       "      <th>3420</th>\n",
       "      <td>Always disconnect automatically</td>\n",
       "      <td>1</td>\n",
       "    </tr>\n",
       "    <tr>\n",
       "      <th>3421</th>\n",
       "      <td>Best sound quality\\nBattery not better</td>\n",
       "      <td>1</td>\n",
       "    </tr>\n",
       "    <tr>\n",
       "      <th>3422</th>\n",
       "      <td>THE BATTERY CAN WITH STAND UP TO 3 HOURS ONLY....</td>\n",
       "      <td>1</td>\n",
       "    </tr>\n",
       "    <tr>\n",
       "      <th>3423</th>\n",
       "      <td>Not working now after two months.</td>\n",
       "      <td>1</td>\n",
       "    </tr>\n",
       "    <tr>\n",
       "      <th>3424</th>\n",
       "      <td>The headphone when I play any music track it i...</td>\n",
       "      <td>1</td>\n",
       "    </tr>\n",
       "  </tbody>\n",
       "</table>\n",
       "<p>3425 rows × 2 columns</p>\n",
       "</div>"
      ],
      "text/plain": [
       "                                                Reviews Ratings\n",
       "0     I bought this GearPods and i am totally satisf...       5\n",
       "1     The earbuds have great sound quality. Battery ...       5\n",
       "2     Wonderful earbuds, perfectly fit to the ear,so...       5\n",
       "3     Let's get to the point , if you're looking for...       4\n",
       "4     Very Great Purchase.\\nBattery Backup is Excell...       5\n",
       "...                                                 ...     ...\n",
       "3420                    Always disconnect automatically       1\n",
       "3421             Best sound quality\\nBattery not better       1\n",
       "3422  THE BATTERY CAN WITH STAND UP TO 3 HOURS ONLY....       1\n",
       "3423                  Not working now after two months.       1\n",
       "3424  The headphone when I play any music track it i...       1\n",
       "\n",
       "[3425 rows x 2 columns]"
      ]
     },
     "execution_count": 61,
     "metadata": {},
     "output_type": "execute_result"
    }
   ],
   "source": [
    "Product1=pd.DataFrame()\n",
    "Product1['Reviews']= Reviews\n",
    "Product1['Ratings']= Ratings\n",
    "Product1"
   ]
  },
  {
   "cell_type": "code",
   "execution_count": 62,
   "id": "3d017da7",
   "metadata": {},
   "outputs": [],
   "source": [
    "Product1.to_csv('Ratings.csv',index = False)"
   ]
  },
  {
   "cell_type": "code",
   "execution_count": 7,
   "id": "d0e53a98",
   "metadata": {},
   "outputs": [],
   "source": [
    "url='https://www.flipkart.com/'\n",
    "driver.get(url)"
   ]
  },
  {
   "cell_type": "code",
   "execution_count": 9,
   "id": "e7579945",
   "metadata": {},
   "outputs": [
    {
     "data": {
      "text/plain": [
       "<selenium.webdriver.remote.webelement.WebElement (session=\"9564b28f0a5e76beff688294cc5df1d1\", element=\"dc6b7675-191f-464a-8fca-2b5948ffd52b\")>"
      ]
     },
     "execution_count": 9,
     "metadata": {},
     "output_type": "execute_result"
    }
   ],
   "source": [
    "Search=driver.find_element_by_xpath('/html/body/div[1]/div/div[1]/div[1]/div[2]/div[2]/form/div/div/input')\n",
    "Search"
   ]
  },
  {
   "cell_type": "code",
   "execution_count": 10,
   "id": "b8ec46de",
   "metadata": {},
   "outputs": [
    {
     "name": "stdout",
     "output_type": "stream",
     "text": [
      "Please search here headphone\n",
      "User input:- headphone\n"
     ]
    }
   ],
   "source": [
    "name=input(\"Please search here \")\n",
    "print(\"User input:-\", name)"
   ]
  },
  {
   "cell_type": "code",
   "execution_count": 11,
   "id": "23010ffa",
   "metadata": {},
   "outputs": [],
   "source": [
    "Search.send_keys(name)"
   ]
  },
  {
   "cell_type": "code",
   "execution_count": 12,
   "id": "de9474e5",
   "metadata": {},
   "outputs": [
    {
     "data": {
      "text/plain": [
       "<selenium.webdriver.remote.webelement.WebElement (session=\"9564b28f0a5e76beff688294cc5df1d1\", element=\"31e0f46a-4230-4534-85bc-44f8eeaba4c8\")>"
      ]
     },
     "execution_count": 12,
     "metadata": {},
     "output_type": "execute_result"
    }
   ],
   "source": [
    "all_btn=driver.find_element_by_xpath('/html/body/div[1]/div/div[1]/div[1]/div[2]/div[2]/form/div/button')\n",
    "all_btn"
   ]
  },
  {
   "cell_type": "code",
   "execution_count": 13,
   "id": "9048cca1",
   "metadata": {},
   "outputs": [],
   "source": [
    "all_btn.click()"
   ]
  },
  {
   "cell_type": "code",
   "execution_count": 14,
   "id": "954bc027",
   "metadata": {},
   "outputs": [],
   "source": [
    "driver.get(\"https://www.flipkart.com/boult-audio-airbass-gearpods-32h-playtime-bluetooth-headset/product-reviews/itm0672f2e36c26b?pid=ACCG6HMHXGKYCFPA&lid=LSTACCG6HMHXGKYCFPAZXE118&marketplace=FLIPKART\")"
   ]
  },
  {
   "cell_type": "code",
   "execution_count": 48,
   "id": "56d7f045",
   "metadata": {},
   "outputs": [],
   "source": [
    "time.sleep(10)\n",
    "#fetching Ratings\n",
    "name=driver.find_elements_by_xpath('//div[@class=\"col _2wzgFH K0kLPL\"]/div[1]/div')\n",
    "for i in name:\n",
    "    Ratings.append(i.text)\n",
    "#fetching Reviews\n",
    "name1=driver.find_elements_by_xpath('//div[@class=\"t-ZTKy\"]/div/div')\n",
    "for i in name1:\n",
    "    Reviews.append(i.text)"
   ]
  },
  {
   "cell_type": "code",
   "execution_count": 46,
   "id": "ac591140",
   "metadata": {},
   "outputs": [],
   "source": [
    "driver.get(\"https://www.flipkart.com/boat-rockerz-255f-pro-asap-charge-upto-10-hours-playback-bluetooth-headset/product-reviews/itm79582d86c717d?pid=ACCGFGGF5Y5YHPYT&lid=LSTACCGFGGF5Y5YHPYTTG5AZ9&aid=overall&certifiedBuyer=false&sortOrder=NEGATIVE_FIRST\")"
   ]
  },
  {
   "cell_type": "code",
   "execution_count": 60,
   "id": "a4305dec",
   "metadata": {},
   "outputs": [
    {
     "ename": "ElementClickInterceptedException",
     "evalue": "Message: element click intercepted: Element <a class=\"_1LKTO3\" href=\"/boat-rockerz-255f-pro-asap-charge-upto-10-hours-playback-bluetooth-headset/product-reviews/itm79582d86c717d?pid=ACCGFGGF5Y5YHPYT&amp;lid=LSTACCGFGGF5Y5YHPYTTG5AZ9&amp;aid=overall&amp;certifiedBuyer=false&amp;sortOrder=NEGATIVE_FIRST&amp;page=72\">...</a> is not clickable at point (752, 579). Other element would receive the click: <div class=\"_1XXPTY _1v2cG7\">...</div>\n  (Session info: chrome=102.0.5005.63)\nStacktrace:\nBacktrace:\n\tOrdinal0 [0x0034D953+2414931]\n\tOrdinal0 [0x002DF5E1+1963489]\n\tOrdinal0 [0x001CC6B8+837304]\n\tOrdinal0 [0x001FFC27+1047591]\n\tOrdinal0 [0x001FDC08+1039368]\n\tOrdinal0 [0x001FB90B+1030411]\n\tOrdinal0 [0x001FA659+1025625]\n\tOrdinal0 [0x001F0293+983699]\n\tOrdinal0 [0x0021449C+1131676]\n\tOrdinal0 [0x001EFC74+982132]\n\tOrdinal0 [0x002146B4+1132212]\n\tOrdinal0 [0x00224812+1198098]\n\tOrdinal0 [0x002142B6+1131190]\n\tOrdinal0 [0x001EE860+976992]\n\tOrdinal0 [0x001EF756+980822]\n\tGetHandleVerifier [0x005BCC62+2510274]\n\tGetHandleVerifier [0x005AF760+2455744]\n\tGetHandleVerifier [0x003DEABA+551962]\n\tGetHandleVerifier [0x003DD916+547446]\n\tOrdinal0 [0x002E5F3B+1990459]\n\tOrdinal0 [0x002EA898+2009240]\n\tOrdinal0 [0x002EA985+2009477]\n\tOrdinal0 [0x002F3AD1+2046673]\n\tBaseThreadInitThunk [0x754F919F+14]\n\tRtlInitializeExceptionChain [0x779CAB8F+143]\n\tRtlInitializeExceptionChain [0x779CAB5A+90]\n",
     "output_type": "error",
     "traceback": [
      "\u001b[1;31m---------------------------------------------------------------------------\u001b[0m",
      "\u001b[1;31mElementClickInterceptedException\u001b[0m          Traceback (most recent call last)",
      "Input \u001b[1;32mIn [60]\u001b[0m, in \u001b[0;36m<cell line: 2>\u001b[1;34m()\u001b[0m\n\u001b[0;32m     13\u001b[0m Url\u001b[38;5;241m.\u001b[39mappend(next1\u001b[38;5;241m.\u001b[39mget_attribute(\u001b[38;5;124m\"\u001b[39m\u001b[38;5;124mhref\u001b[39m\u001b[38;5;124m\"\u001b[39m))\n\u001b[0;32m     14\u001b[0m btn\u001b[38;5;241m=\u001b[39mdriver\u001b[38;5;241m.\u001b[39mfind_element_by_xpath(\u001b[38;5;124m'\u001b[39m\u001b[38;5;124m/html/body/div/div/div[3]/div/div/div[2]/div[13]/div/div/nav/a[12]\u001b[39m\u001b[38;5;124m'\u001b[39m)\n\u001b[1;32m---> 15\u001b[0m \u001b[43mbtn\u001b[49m\u001b[38;5;241;43m.\u001b[39;49m\u001b[43mclick\u001b[49m\u001b[43m(\u001b[49m\u001b[43m)\u001b[49m\n",
      "File \u001b[1;32m~\\anaconda3\\lib\\site-packages\\selenium\\webdriver\\remote\\webelement.py:81\u001b[0m, in \u001b[0;36mWebElement.click\u001b[1;34m(self)\u001b[0m\n\u001b[0;32m     79\u001b[0m \u001b[38;5;28;01mdef\u001b[39;00m \u001b[38;5;21mclick\u001b[39m(\u001b[38;5;28mself\u001b[39m) \u001b[38;5;241m-\u001b[39m\u001b[38;5;241m>\u001b[39m \u001b[38;5;28;01mNone\u001b[39;00m:\n\u001b[0;32m     80\u001b[0m     \u001b[38;5;124;03m\"\"\"Clicks the element.\"\"\"\u001b[39;00m\n\u001b[1;32m---> 81\u001b[0m     \u001b[38;5;28;43mself\u001b[39;49m\u001b[38;5;241;43m.\u001b[39;49m\u001b[43m_execute\u001b[49m\u001b[43m(\u001b[49m\u001b[43mCommand\u001b[49m\u001b[38;5;241;43m.\u001b[39;49m\u001b[43mCLICK_ELEMENT\u001b[49m\u001b[43m)\u001b[49m\n",
      "File \u001b[1;32m~\\anaconda3\\lib\\site-packages\\selenium\\webdriver\\remote\\webelement.py:710\u001b[0m, in \u001b[0;36mWebElement._execute\u001b[1;34m(self, command, params)\u001b[0m\n\u001b[0;32m    708\u001b[0m     params \u001b[38;5;241m=\u001b[39m {}\n\u001b[0;32m    709\u001b[0m params[\u001b[38;5;124m'\u001b[39m\u001b[38;5;124mid\u001b[39m\u001b[38;5;124m'\u001b[39m] \u001b[38;5;241m=\u001b[39m \u001b[38;5;28mself\u001b[39m\u001b[38;5;241m.\u001b[39m_id\n\u001b[1;32m--> 710\u001b[0m \u001b[38;5;28;01mreturn\u001b[39;00m \u001b[38;5;28;43mself\u001b[39;49m\u001b[38;5;241;43m.\u001b[39;49m\u001b[43m_parent\u001b[49m\u001b[38;5;241;43m.\u001b[39;49m\u001b[43mexecute\u001b[49m\u001b[43m(\u001b[49m\u001b[43mcommand\u001b[49m\u001b[43m,\u001b[49m\u001b[43m \u001b[49m\u001b[43mparams\u001b[49m\u001b[43m)\u001b[49m\n",
      "File \u001b[1;32m~\\anaconda3\\lib\\site-packages\\selenium\\webdriver\\remote\\webdriver.py:424\u001b[0m, in \u001b[0;36mWebDriver.execute\u001b[1;34m(self, driver_command, params)\u001b[0m\n\u001b[0;32m    422\u001b[0m response \u001b[38;5;241m=\u001b[39m \u001b[38;5;28mself\u001b[39m\u001b[38;5;241m.\u001b[39mcommand_executor\u001b[38;5;241m.\u001b[39mexecute(driver_command, params)\n\u001b[0;32m    423\u001b[0m \u001b[38;5;28;01mif\u001b[39;00m response:\n\u001b[1;32m--> 424\u001b[0m     \u001b[38;5;28;43mself\u001b[39;49m\u001b[38;5;241;43m.\u001b[39;49m\u001b[43merror_handler\u001b[49m\u001b[38;5;241;43m.\u001b[39;49m\u001b[43mcheck_response\u001b[49m\u001b[43m(\u001b[49m\u001b[43mresponse\u001b[49m\u001b[43m)\u001b[49m\n\u001b[0;32m    425\u001b[0m     response[\u001b[38;5;124m'\u001b[39m\u001b[38;5;124mvalue\u001b[39m\u001b[38;5;124m'\u001b[39m] \u001b[38;5;241m=\u001b[39m \u001b[38;5;28mself\u001b[39m\u001b[38;5;241m.\u001b[39m_unwrap_value(\n\u001b[0;32m    426\u001b[0m         response\u001b[38;5;241m.\u001b[39mget(\u001b[38;5;124m'\u001b[39m\u001b[38;5;124mvalue\u001b[39m\u001b[38;5;124m'\u001b[39m, \u001b[38;5;28;01mNone\u001b[39;00m))\n\u001b[0;32m    427\u001b[0m     \u001b[38;5;28;01mreturn\u001b[39;00m response\n",
      "File \u001b[1;32m~\\anaconda3\\lib\\site-packages\\selenium\\webdriver\\remote\\errorhandler.py:247\u001b[0m, in \u001b[0;36mErrorHandler.check_response\u001b[1;34m(self, response)\u001b[0m\n\u001b[0;32m    245\u001b[0m         alert_text \u001b[38;5;241m=\u001b[39m value[\u001b[38;5;124m'\u001b[39m\u001b[38;5;124malert\u001b[39m\u001b[38;5;124m'\u001b[39m]\u001b[38;5;241m.\u001b[39mget(\u001b[38;5;124m'\u001b[39m\u001b[38;5;124mtext\u001b[39m\u001b[38;5;124m'\u001b[39m)\n\u001b[0;32m    246\u001b[0m     \u001b[38;5;28;01mraise\u001b[39;00m exception_class(message, screen, stacktrace, alert_text)  \u001b[38;5;66;03m# type: ignore[call-arg]  # mypy is not smart enough here\u001b[39;00m\n\u001b[1;32m--> 247\u001b[0m \u001b[38;5;28;01mraise\u001b[39;00m exception_class(message, screen, stacktrace)\n",
      "\u001b[1;31mElementClickInterceptedException\u001b[0m: Message: element click intercepted: Element <a class=\"_1LKTO3\" href=\"/boat-rockerz-255f-pro-asap-charge-upto-10-hours-playback-bluetooth-headset/product-reviews/itm79582d86c717d?pid=ACCGFGGF5Y5YHPYT&amp;lid=LSTACCGFGGF5Y5YHPYTTG5AZ9&amp;aid=overall&amp;certifiedBuyer=false&amp;sortOrder=NEGATIVE_FIRST&amp;page=72\">...</a> is not clickable at point (752, 579). Other element would receive the click: <div class=\"_1XXPTY _1v2cG7\">...</div>\n  (Session info: chrome=102.0.5005.63)\nStacktrace:\nBacktrace:\n\tOrdinal0 [0x0034D953+2414931]\n\tOrdinal0 [0x002DF5E1+1963489]\n\tOrdinal0 [0x001CC6B8+837304]\n\tOrdinal0 [0x001FFC27+1047591]\n\tOrdinal0 [0x001FDC08+1039368]\n\tOrdinal0 [0x001FB90B+1030411]\n\tOrdinal0 [0x001FA659+1025625]\n\tOrdinal0 [0x001F0293+983699]\n\tOrdinal0 [0x0021449C+1131676]\n\tOrdinal0 [0x001EFC74+982132]\n\tOrdinal0 [0x002146B4+1132212]\n\tOrdinal0 [0x00224812+1198098]\n\tOrdinal0 [0x002142B6+1131190]\n\tOrdinal0 [0x001EE860+976992]\n\tOrdinal0 [0x001EF756+980822]\n\tGetHandleVerifier [0x005BCC62+2510274]\n\tGetHandleVerifier [0x005AF760+2455744]\n\tGetHandleVerifier [0x003DEABA+551962]\n\tGetHandleVerifier [0x003DD916+547446]\n\tOrdinal0 [0x002E5F3B+1990459]\n\tOrdinal0 [0x002EA898+2009240]\n\tOrdinal0 [0x002EA985+2009477]\n\tOrdinal0 [0x002F3AD1+2046673]\n\tBaseThreadInitThunk [0x754F919F+14]\n\tRtlInitializeExceptionChain [0x779CAB8F+143]\n\tRtlInitializeExceptionChain [0x779CAB5A+90]\n"
     ]
    }
   ],
   "source": [
    "Url=[]\n",
    "for i in range(0,200,1):\n",
    "    time.sleep(10)\n",
    "    #fetching Ratings\n",
    "    name=driver.find_elements_by_xpath('//div[@class=\"col _2wzgFH K0kLPL\"]/div[1]/div')\n",
    "    for j in name:\n",
    "        Ratings.append(j.text)\n",
    "    #fetching Reviews\n",
    "    name1=driver.find_elements_by_xpath('//div[@class=\"t-ZTKy\"]/div/div')\n",
    "    for k in name1:\n",
    "        Reviews.append(k.text)\n",
    "    next1=driver.find_element_by_xpath(\"//a[@class='_1LKTO3']\")\n",
    "    Url.append(next1.get_attribute(\"href\"))\n",
    "    btn=driver.find_element_by_xpath('/html/body/div/div/div[3]/div/div/div[2]/div[13]/div/div/nav/a[12]')\n",
    "    btn.click()"
   ]
  },
  {
   "cell_type": "code",
   "execution_count": 66,
   "id": "905d78bd",
   "metadata": {},
   "outputs": [
    {
     "data": {
      "text/plain": [
       "(3425, 3425)"
      ]
     },
     "execution_count": 66,
     "metadata": {},
     "output_type": "execute_result"
    }
   ],
   "source": [
    "len(Ratings),len(Reviews)"
   ]
  },
  {
   "cell_type": "code",
   "execution_count": 67,
   "id": "4d273205",
   "metadata": {},
   "outputs": [
    {
     "data": {
      "text/html": [
       "<div>\n",
       "<style scoped>\n",
       "    .dataframe tbody tr th:only-of-type {\n",
       "        vertical-align: middle;\n",
       "    }\n",
       "\n",
       "    .dataframe tbody tr th {\n",
       "        vertical-align: top;\n",
       "    }\n",
       "\n",
       "    .dataframe thead th {\n",
       "        text-align: right;\n",
       "    }\n",
       "</style>\n",
       "<table border=\"1\" class=\"dataframe\">\n",
       "  <thead>\n",
       "    <tr style=\"text-align: right;\">\n",
       "      <th></th>\n",
       "      <th>Reviews</th>\n",
       "      <th>Ratings</th>\n",
       "    </tr>\n",
       "  </thead>\n",
       "  <tbody>\n",
       "    <tr>\n",
       "      <th>0</th>\n",
       "      <td>I bought this GearPods and i am totally satisf...</td>\n",
       "      <td>5</td>\n",
       "    </tr>\n",
       "    <tr>\n",
       "      <th>1</th>\n",
       "      <td>The earbuds have great sound quality. Battery ...</td>\n",
       "      <td>5</td>\n",
       "    </tr>\n",
       "    <tr>\n",
       "      <th>2</th>\n",
       "      <td>Wonderful earbuds, perfectly fit to the ear,so...</td>\n",
       "      <td>5</td>\n",
       "    </tr>\n",
       "    <tr>\n",
       "      <th>3</th>\n",
       "      <td>Let's get to the point , if you're looking for...</td>\n",
       "      <td>4</td>\n",
       "    </tr>\n",
       "    <tr>\n",
       "      <th>4</th>\n",
       "      <td>Very Great Purchase.\\nBattery Backup is Excell...</td>\n",
       "      <td>5</td>\n",
       "    </tr>\n",
       "    <tr>\n",
       "      <th>...</th>\n",
       "      <td>...</td>\n",
       "      <td>...</td>\n",
       "    </tr>\n",
       "    <tr>\n",
       "      <th>3420</th>\n",
       "      <td>Always disconnect automatically</td>\n",
       "      <td>1</td>\n",
       "    </tr>\n",
       "    <tr>\n",
       "      <th>3421</th>\n",
       "      <td>Best sound quality\\nBattery not better</td>\n",
       "      <td>1</td>\n",
       "    </tr>\n",
       "    <tr>\n",
       "      <th>3422</th>\n",
       "      <td>THE BATTERY CAN WITH STAND UP TO 3 HOURS ONLY....</td>\n",
       "      <td>1</td>\n",
       "    </tr>\n",
       "    <tr>\n",
       "      <th>3423</th>\n",
       "      <td>Not working now after two months.</td>\n",
       "      <td>1</td>\n",
       "    </tr>\n",
       "    <tr>\n",
       "      <th>3424</th>\n",
       "      <td>The headphone when I play any music track it i...</td>\n",
       "      <td>1</td>\n",
       "    </tr>\n",
       "  </tbody>\n",
       "</table>\n",
       "<p>3425 rows × 2 columns</p>\n",
       "</div>"
      ],
      "text/plain": [
       "                                                Reviews Ratings\n",
       "0     I bought this GearPods and i am totally satisf...       5\n",
       "1     The earbuds have great sound quality. Battery ...       5\n",
       "2     Wonderful earbuds, perfectly fit to the ear,so...       5\n",
       "3     Let's get to the point , if you're looking for...       4\n",
       "4     Very Great Purchase.\\nBattery Backup is Excell...       5\n",
       "...                                                 ...     ...\n",
       "3420                    Always disconnect automatically       1\n",
       "3421             Best sound quality\\nBattery not better       1\n",
       "3422  THE BATTERY CAN WITH STAND UP TO 3 HOURS ONLY....       1\n",
       "3423                  Not working now after two months.       1\n",
       "3424  The headphone when I play any music track it i...       1\n",
       "\n",
       "[3425 rows x 2 columns]"
      ]
     },
     "execution_count": 67,
     "metadata": {},
     "output_type": "execute_result"
    }
   ],
   "source": [
    "Product1=pd.DataFrame()\n",
    "Product1['Reviews']= Reviews\n",
    "Product1['Ratings']= Ratings\n",
    "Product1"
   ]
  },
  {
   "cell_type": "code",
   "execution_count": 68,
   "id": "2ac06b9b",
   "metadata": {},
   "outputs": [],
   "source": [
    "Product1.to_csv('Ratings1.csv',index = False)"
   ]
  },
  {
   "cell_type": "code",
   "execution_count": 7,
   "id": "7403956d",
   "metadata": {},
   "outputs": [],
   "source": [
    "url='https://www.flipkart.com/'\n",
    "driver.get(url)"
   ]
  },
  {
   "cell_type": "code",
   "execution_count": 69,
   "id": "fc6db3fa",
   "metadata": {},
   "outputs": [
    {
     "data": {
      "text/plain": [
       "<selenium.webdriver.remote.webelement.WebElement (session=\"dd49ea25b7e768165a6c9c6b7661bb10\", element=\"7e352302-42d7-4dbf-94a8-d43337b8e46d\")>"
      ]
     },
     "execution_count": 69,
     "metadata": {},
     "output_type": "execute_result"
    }
   ],
   "source": [
    "Search=driver.find_element_by_xpath('/html/body/div[1]/div/div[1]/div[1]/div[2]/div[2]/form/div/div/input')\n",
    "Search"
   ]
  },
  {
   "cell_type": "code",
   "execution_count": 70,
   "id": "3af59ee1",
   "metadata": {},
   "outputs": [
    {
     "name": "stdout",
     "output_type": "stream",
     "text": [
      "Please search here smartwatch\n",
      "User input:- smartwatch\n"
     ]
    }
   ],
   "source": [
    "name=input(\"Please search here \")\n",
    "print(\"User input:-\", name)"
   ]
  },
  {
   "cell_type": "code",
   "execution_count": 71,
   "id": "3cfd753e",
   "metadata": {},
   "outputs": [],
   "source": [
    "Search.send_keys(name)"
   ]
  },
  {
   "cell_type": "code",
   "execution_count": 74,
   "id": "14eee5c3",
   "metadata": {},
   "outputs": [
    {
     "data": {
      "text/plain": [
       "<selenium.webdriver.remote.webelement.WebElement (session=\"dd49ea25b7e768165a6c9c6b7661bb10\", element=\"a23f0000-b44a-48e4-bdbd-93776c36de07\")>"
      ]
     },
     "execution_count": 74,
     "metadata": {},
     "output_type": "execute_result"
    }
   ],
   "source": [
    "all_btn=driver.find_element_by_xpath('/html/body/div[1]/div/div[1]/div[1]/div[2]/div[2]/form/div/button')\n",
    "all_btn"
   ]
  },
  {
   "cell_type": "code",
   "execution_count": 75,
   "id": "3565f00e",
   "metadata": {},
   "outputs": [],
   "source": [
    "all_btn.click()"
   ]
  },
  {
   "cell_type": "code",
   "execution_count": 83,
   "id": "a30d5c75",
   "metadata": {},
   "outputs": [],
   "source": [
    "driver.get(\"https://www.flipkart.com/noise-colorfit-qube-spo2-smartwatch/p/itm2d9dc41a02202?pid=SMWG6RB5FX7RXWZ8&lid=LSTSMWG6RB5FX7RXWZ8MROVKI&marketplace=FLIPKART&q=smartwatch&store=ajy%2Fbuh&srno=s_1_3&otracker=search&otracker1=search&fm=organic&iid=04b30311-6525-4c3b-9c08-eea192616adf.SMWG6RB5FX7RXWZ8.SEARCH&ppt=hp&ppn=homepage&ssid=dfl8qmxmg00000001654704169477&qH=adc5bc5b72db9fa3\")"
   ]
  },
  {
   "cell_type": "code",
   "execution_count": 84,
   "id": "64b15868",
   "metadata": {},
   "outputs": [],
   "source": [
    "time.sleep(10)\n",
    "#fetching Ratings\n",
    "name=driver.find_elements_by_xpath('//div[@class=\"col _2wzgFH K0kLPL\"]/div[1]/div')\n",
    "for i in name:\n",
    "    Ratings.append(i.text)\n",
    "#fetching Reviews\n",
    "name1=driver.find_elements_by_xpath('//div[@class=\"t-ZTKy\"]/div/div')\n",
    "for i in name1:\n",
    "    Reviews.append(i.text)"
   ]
  },
  {
   "cell_type": "code",
   "execution_count": 113,
   "id": "3e1b916b",
   "metadata": {},
   "outputs": [],
   "source": [
    "driver.get(\"https://www.flipkart.com/boat-storm-1-3-curveddisplay-smartwatch/product-reviews/itm215a48c547168?pid=SMWGYNGHTNAWKDFA&lid=LSTSMWGYNGHTNAWKDFAJA6GMV&aid=overall&certifiedBuyer=false&sortOrder=NEGATIVE_FIRST&page=465\")"
   ]
  },
  {
   "cell_type": "code",
   "execution_count": 122,
   "id": "b43e2696",
   "metadata": {},
   "outputs": [
    {
     "ename": "NoSuchElementException",
     "evalue": "Message: no such element: Unable to locate element: {\"method\":\"xpath\",\"selector\":\"/html/body/div/div/div[3]/div/div/div[2]/div[13]/div/div/nav/a[12]\"}\n  (Session info: chrome=102.0.5005.63)\nStacktrace:\nBacktrace:\n\tOrdinal0 [0x0034D953+2414931]\n\tOrdinal0 [0x002DF5E1+1963489]\n\tOrdinal0 [0x001CC6B8+837304]\n\tOrdinal0 [0x001F9500+1021184]\n\tOrdinal0 [0x001F979B+1021851]\n\tOrdinal0 [0x00226502+1205506]\n\tOrdinal0 [0x002144E4+1131748]\n\tOrdinal0 [0x00224812+1198098]\n\tOrdinal0 [0x002142B6+1131190]\n\tOrdinal0 [0x001EE860+976992]\n\tOrdinal0 [0x001EF756+980822]\n\tGetHandleVerifier [0x005BCC62+2510274]\n\tGetHandleVerifier [0x005AF760+2455744]\n\tGetHandleVerifier [0x003DEABA+551962]\n\tGetHandleVerifier [0x003DD916+547446]\n\tOrdinal0 [0x002E5F3B+1990459]\n\tOrdinal0 [0x002EA898+2009240]\n\tOrdinal0 [0x002EA985+2009477]\n\tOrdinal0 [0x002F3AD1+2046673]\n\tBaseThreadInitThunk [0x754F919F+14]\n\tRtlInitializeExceptionChain [0x779CAB8F+143]\n\tRtlInitializeExceptionChain [0x779CAB5A+90]\n",
     "output_type": "error",
     "traceback": [
      "\u001b[1;31m---------------------------------------------------------------------------\u001b[0m",
      "\u001b[1;31mNoSuchElementException\u001b[0m                    Traceback (most recent call last)",
      "Input \u001b[1;32mIn [122]\u001b[0m, in \u001b[0;36m<cell line: 2>\u001b[1;34m()\u001b[0m\n\u001b[0;32m     12\u001b[0m next1\u001b[38;5;241m=\u001b[39mdriver\u001b[38;5;241m.\u001b[39mfind_element_by_xpath(\u001b[38;5;124m\"\u001b[39m\u001b[38;5;124m//a[@class=\u001b[39m\u001b[38;5;124m'\u001b[39m\u001b[38;5;124m_1LKTO3\u001b[39m\u001b[38;5;124m'\u001b[39m\u001b[38;5;124m]\u001b[39m\u001b[38;5;124m\"\u001b[39m)\n\u001b[0;32m     13\u001b[0m Url\u001b[38;5;241m.\u001b[39mappend(next1\u001b[38;5;241m.\u001b[39mget_attribute(\u001b[38;5;124m\"\u001b[39m\u001b[38;5;124mhref\u001b[39m\u001b[38;5;124m\"\u001b[39m))\n\u001b[1;32m---> 14\u001b[0m btn\u001b[38;5;241m=\u001b[39m\u001b[43mdriver\u001b[49m\u001b[38;5;241;43m.\u001b[39;49m\u001b[43mfind_element_by_xpath\u001b[49m\u001b[43m(\u001b[49m\u001b[38;5;124;43m'\u001b[39;49m\u001b[38;5;124;43m/html/body/div/div/div[3]/div/div/div[2]/div[13]/div/div/nav/a[12]\u001b[39;49m\u001b[38;5;124;43m'\u001b[39;49m\u001b[43m)\u001b[49m\n\u001b[0;32m     15\u001b[0m btn\u001b[38;5;241m.\u001b[39mclick()\n",
      "File \u001b[1;32m~\\anaconda3\\lib\\site-packages\\selenium\\webdriver\\remote\\webdriver.py:520\u001b[0m, in \u001b[0;36mWebDriver.find_element_by_xpath\u001b[1;34m(self, xpath)\u001b[0m\n\u001b[0;32m    498\u001b[0m \u001b[38;5;124;03m\"\"\"\u001b[39;00m\n\u001b[0;32m    499\u001b[0m \u001b[38;5;124;03mFinds an element by xpath.\u001b[39;00m\n\u001b[0;32m    500\u001b[0m \n\u001b[1;32m   (...)\u001b[0m\n\u001b[0;32m    513\u001b[0m \u001b[38;5;124;03m        element = driver.find_element_by_xpath('//div/td[1]')\u001b[39;00m\n\u001b[0;32m    514\u001b[0m \u001b[38;5;124;03m\"\"\"\u001b[39;00m\n\u001b[0;32m    515\u001b[0m warnings\u001b[38;5;241m.\u001b[39mwarn(\n\u001b[0;32m    516\u001b[0m     \u001b[38;5;124m\"\u001b[39m\u001b[38;5;124mfind_element_by_* commands are deprecated. Please use find_element() instead\u001b[39m\u001b[38;5;124m\"\u001b[39m,\n\u001b[0;32m    517\u001b[0m     \u001b[38;5;167;01mDeprecationWarning\u001b[39;00m,\n\u001b[0;32m    518\u001b[0m     stacklevel\u001b[38;5;241m=\u001b[39m\u001b[38;5;241m2\u001b[39m,\n\u001b[0;32m    519\u001b[0m )\n\u001b[1;32m--> 520\u001b[0m \u001b[38;5;28;01mreturn\u001b[39;00m \u001b[38;5;28;43mself\u001b[39;49m\u001b[38;5;241;43m.\u001b[39;49m\u001b[43mfind_element\u001b[49m\u001b[43m(\u001b[49m\u001b[43mby\u001b[49m\u001b[38;5;241;43m=\u001b[39;49m\u001b[43mBy\u001b[49m\u001b[38;5;241;43m.\u001b[39;49m\u001b[43mXPATH\u001b[49m\u001b[43m,\u001b[49m\u001b[43m \u001b[49m\u001b[43mvalue\u001b[49m\u001b[38;5;241;43m=\u001b[39;49m\u001b[43mxpath\u001b[49m\u001b[43m)\u001b[49m\n",
      "File \u001b[1;32m~\\anaconda3\\lib\\site-packages\\selenium\\webdriver\\remote\\webdriver.py:1244\u001b[0m, in \u001b[0;36mWebDriver.find_element\u001b[1;34m(self, by, value)\u001b[0m\n\u001b[0;32m   1241\u001b[0m     by \u001b[38;5;241m=\u001b[39m By\u001b[38;5;241m.\u001b[39mCSS_SELECTOR\n\u001b[0;32m   1242\u001b[0m     value \u001b[38;5;241m=\u001b[39m \u001b[38;5;124m'\u001b[39m\u001b[38;5;124m[name=\u001b[39m\u001b[38;5;124m\"\u001b[39m\u001b[38;5;132;01m%s\u001b[39;00m\u001b[38;5;124m\"\u001b[39m\u001b[38;5;124m]\u001b[39m\u001b[38;5;124m'\u001b[39m \u001b[38;5;241m%\u001b[39m value\n\u001b[1;32m-> 1244\u001b[0m \u001b[38;5;28;01mreturn\u001b[39;00m \u001b[38;5;28;43mself\u001b[39;49m\u001b[38;5;241;43m.\u001b[39;49m\u001b[43mexecute\u001b[49m\u001b[43m(\u001b[49m\u001b[43mCommand\u001b[49m\u001b[38;5;241;43m.\u001b[39;49m\u001b[43mFIND_ELEMENT\u001b[49m\u001b[43m,\u001b[49m\u001b[43m \u001b[49m\u001b[43m{\u001b[49m\n\u001b[0;32m   1245\u001b[0m \u001b[43m    \u001b[49m\u001b[38;5;124;43m'\u001b[39;49m\u001b[38;5;124;43musing\u001b[39;49m\u001b[38;5;124;43m'\u001b[39;49m\u001b[43m:\u001b[49m\u001b[43m \u001b[49m\u001b[43mby\u001b[49m\u001b[43m,\u001b[49m\n\u001b[0;32m   1246\u001b[0m \u001b[43m    \u001b[49m\u001b[38;5;124;43m'\u001b[39;49m\u001b[38;5;124;43mvalue\u001b[39;49m\u001b[38;5;124;43m'\u001b[39;49m\u001b[43m:\u001b[49m\u001b[43m \u001b[49m\u001b[43mvalue\u001b[49m\u001b[43m}\u001b[49m\u001b[43m)\u001b[49m[\u001b[38;5;124m'\u001b[39m\u001b[38;5;124mvalue\u001b[39m\u001b[38;5;124m'\u001b[39m]\n",
      "File \u001b[1;32m~\\anaconda3\\lib\\site-packages\\selenium\\webdriver\\remote\\webdriver.py:424\u001b[0m, in \u001b[0;36mWebDriver.execute\u001b[1;34m(self, driver_command, params)\u001b[0m\n\u001b[0;32m    422\u001b[0m response \u001b[38;5;241m=\u001b[39m \u001b[38;5;28mself\u001b[39m\u001b[38;5;241m.\u001b[39mcommand_executor\u001b[38;5;241m.\u001b[39mexecute(driver_command, params)\n\u001b[0;32m    423\u001b[0m \u001b[38;5;28;01mif\u001b[39;00m response:\n\u001b[1;32m--> 424\u001b[0m     \u001b[38;5;28;43mself\u001b[39;49m\u001b[38;5;241;43m.\u001b[39;49m\u001b[43merror_handler\u001b[49m\u001b[38;5;241;43m.\u001b[39;49m\u001b[43mcheck_response\u001b[49m\u001b[43m(\u001b[49m\u001b[43mresponse\u001b[49m\u001b[43m)\u001b[49m\n\u001b[0;32m    425\u001b[0m     response[\u001b[38;5;124m'\u001b[39m\u001b[38;5;124mvalue\u001b[39m\u001b[38;5;124m'\u001b[39m] \u001b[38;5;241m=\u001b[39m \u001b[38;5;28mself\u001b[39m\u001b[38;5;241m.\u001b[39m_unwrap_value(\n\u001b[0;32m    426\u001b[0m         response\u001b[38;5;241m.\u001b[39mget(\u001b[38;5;124m'\u001b[39m\u001b[38;5;124mvalue\u001b[39m\u001b[38;5;124m'\u001b[39m, \u001b[38;5;28;01mNone\u001b[39;00m))\n\u001b[0;32m    427\u001b[0m     \u001b[38;5;28;01mreturn\u001b[39;00m response\n",
      "File \u001b[1;32m~\\anaconda3\\lib\\site-packages\\selenium\\webdriver\\remote\\errorhandler.py:247\u001b[0m, in \u001b[0;36mErrorHandler.check_response\u001b[1;34m(self, response)\u001b[0m\n\u001b[0;32m    245\u001b[0m         alert_text \u001b[38;5;241m=\u001b[39m value[\u001b[38;5;124m'\u001b[39m\u001b[38;5;124malert\u001b[39m\u001b[38;5;124m'\u001b[39m]\u001b[38;5;241m.\u001b[39mget(\u001b[38;5;124m'\u001b[39m\u001b[38;5;124mtext\u001b[39m\u001b[38;5;124m'\u001b[39m)\n\u001b[0;32m    246\u001b[0m     \u001b[38;5;28;01mraise\u001b[39;00m exception_class(message, screen, stacktrace, alert_text)  \u001b[38;5;66;03m# type: ignore[call-arg]  # mypy is not smart enough here\u001b[39;00m\n\u001b[1;32m--> 247\u001b[0m \u001b[38;5;28;01mraise\u001b[39;00m exception_class(message, screen, stacktrace)\n",
      "\u001b[1;31mNoSuchElementException\u001b[0m: Message: no such element: Unable to locate element: {\"method\":\"xpath\",\"selector\":\"/html/body/div/div/div[3]/div/div/div[2]/div[13]/div/div/nav/a[12]\"}\n  (Session info: chrome=102.0.5005.63)\nStacktrace:\nBacktrace:\n\tOrdinal0 [0x0034D953+2414931]\n\tOrdinal0 [0x002DF5E1+1963489]\n\tOrdinal0 [0x001CC6B8+837304]\n\tOrdinal0 [0x001F9500+1021184]\n\tOrdinal0 [0x001F979B+1021851]\n\tOrdinal0 [0x00226502+1205506]\n\tOrdinal0 [0x002144E4+1131748]\n\tOrdinal0 [0x00224812+1198098]\n\tOrdinal0 [0x002142B6+1131190]\n\tOrdinal0 [0x001EE860+976992]\n\tOrdinal0 [0x001EF756+980822]\n\tGetHandleVerifier [0x005BCC62+2510274]\n\tGetHandleVerifier [0x005AF760+2455744]\n\tGetHandleVerifier [0x003DEABA+551962]\n\tGetHandleVerifier [0x003DD916+547446]\n\tOrdinal0 [0x002E5F3B+1990459]\n\tOrdinal0 [0x002EA898+2009240]\n\tOrdinal0 [0x002EA985+2009477]\n\tOrdinal0 [0x002F3AD1+2046673]\n\tBaseThreadInitThunk [0x754F919F+14]\n\tRtlInitializeExceptionChain [0x779CAB8F+143]\n\tRtlInitializeExceptionChain [0x779CAB5A+90]\n"
     ]
    }
   ],
   "source": [
    "Url=[]\n",
    "for i in range(0,200,1):\n",
    "    time.sleep(10)\n",
    "    #fetching Ratings\n",
    "    name=driver.find_elements_by_xpath('//div[@class=\"col _2wzgFH K0kLPL\"]/div[1]/div')\n",
    "    for j in name:\n",
    "        Ratings.append(j.text)\n",
    "    #fetching Reviews\n",
    "    name1=driver.find_elements_by_xpath('//div[@class=\"t-ZTKy\"]/div/div')\n",
    "    for k in name1:\n",
    "        Reviews.append(k.text)\n",
    "    next1=driver.find_element_by_xpath(\"//a[@class='_1LKTO3']\")\n",
    "    Url.append(next1.get_attribute(\"href\"))\n",
    "    btn=driver.find_element_by_xpath('/html/body/div/div/div[3]/div/div/div[2]/div[13]/div/div/nav/a[12]')\n",
    "    btn.click()"
   ]
  },
  {
   "cell_type": "code",
   "execution_count": 123,
   "id": "93766ffa",
   "metadata": {},
   "outputs": [
    {
     "data": {
      "text/plain": [
       "(2606, 2606)"
      ]
     },
     "execution_count": 123,
     "metadata": {},
     "output_type": "execute_result"
    }
   ],
   "source": [
    "len(Ratings),len(Reviews)"
   ]
  },
  {
   "cell_type": "code",
   "execution_count": 124,
   "id": "26f871c7",
   "metadata": {},
   "outputs": [
    {
     "data": {
      "text/html": [
       "<div>\n",
       "<style scoped>\n",
       "    .dataframe tbody tr th:only-of-type {\n",
       "        vertical-align: middle;\n",
       "    }\n",
       "\n",
       "    .dataframe tbody tr th {\n",
       "        vertical-align: top;\n",
       "    }\n",
       "\n",
       "    .dataframe thead th {\n",
       "        text-align: right;\n",
       "    }\n",
       "</style>\n",
       "<table border=\"1\" class=\"dataframe\">\n",
       "  <thead>\n",
       "    <tr style=\"text-align: right;\">\n",
       "      <th></th>\n",
       "      <th>Reviews</th>\n",
       "      <th>Ratings</th>\n",
       "    </tr>\n",
       "  </thead>\n",
       "  <tbody>\n",
       "    <tr>\n",
       "      <th>0</th>\n",
       "      <td>Fit is awsum.lukwise it is just gorgeous.N val...</td>\n",
       "      <td>5</td>\n",
       "    </tr>\n",
       "    <tr>\n",
       "      <th>1</th>\n",
       "      <td>Very nice watch really liked the display &amp; loo...</td>\n",
       "      <td>5</td>\n",
       "    </tr>\n",
       "    <tr>\n",
       "      <th>2</th>\n",
       "      <td>Very nice Product...we really loved the produc...</td>\n",
       "      <td>4</td>\n",
       "    </tr>\n",
       "    <tr>\n",
       "      <th>3</th>\n",
       "      <td>Good value for money everything is good only o...</td>\n",
       "      <td>4</td>\n",
       "    </tr>\n",
       "    <tr>\n",
       "      <th>4</th>\n",
       "      <td>Worth for money, Stylish + classy + good quality</td>\n",
       "      <td>4</td>\n",
       "    </tr>\n",
       "    <tr>\n",
       "      <th>...</th>\n",
       "      <td>...</td>\n",
       "      <td>...</td>\n",
       "    </tr>\n",
       "    <tr>\n",
       "      <th>2601</th>\n",
       "      <td>Qualities very bad</td>\n",
       "      <td>2</td>\n",
       "    </tr>\n",
       "    <tr>\n",
       "      <th>2602</th>\n",
       "      <td>Not good product</td>\n",
       "      <td>2</td>\n",
       "    </tr>\n",
       "    <tr>\n",
       "      <th>2603</th>\n",
       "      <td>This product is not bettery breakup and not wo...</td>\n",
       "      <td>2</td>\n",
       "    </tr>\n",
       "    <tr>\n",
       "      <th>2604</th>\n",
       "      <td>Display is very poor..touch does not work smoo...</td>\n",
       "      <td>2</td>\n",
       "    </tr>\n",
       "    <tr>\n",
       "      <th>2605</th>\n",
       "      <td>Nice but not value more then 2000</td>\n",
       "      <td>2</td>\n",
       "    </tr>\n",
       "  </tbody>\n",
       "</table>\n",
       "<p>2606 rows × 2 columns</p>\n",
       "</div>"
      ],
      "text/plain": [
       "                                                Reviews Ratings\n",
       "0     Fit is awsum.lukwise it is just gorgeous.N val...       5\n",
       "1     Very nice watch really liked the display & loo...       5\n",
       "2     Very nice Product...we really loved the produc...       4\n",
       "3     Good value for money everything is good only o...       4\n",
       "4      Worth for money, Stylish + classy + good quality       4\n",
       "...                                                 ...     ...\n",
       "2601                                 Qualities very bad       2\n",
       "2602                                   Not good product       2\n",
       "2603  This product is not bettery breakup and not wo...       2\n",
       "2604  Display is very poor..touch does not work smoo...       2\n",
       "2605                  Nice but not value more then 2000       2\n",
       "\n",
       "[2606 rows x 2 columns]"
      ]
     },
     "execution_count": 124,
     "metadata": {},
     "output_type": "execute_result"
    }
   ],
   "source": [
    "Product1=pd.DataFrame()\n",
    "Product1['Reviews']= Reviews\n",
    "Product1['Ratings']= Ratings\n",
    "Product1"
   ]
  },
  {
   "cell_type": "code",
   "execution_count": 125,
   "id": "d13a0e70",
   "metadata": {},
   "outputs": [],
   "source": [
    "Product1.to_csv('Ratings2.csv',index = False)"
   ]
  },
  {
   "cell_type": "code",
   "execution_count": null,
   "id": "024f1c68",
   "metadata": {},
   "outputs": [],
   "source": []
  }
 ],
 "metadata": {
  "kernelspec": {
   "display_name": "Python 3 (ipykernel)",
   "language": "python",
   "name": "python3"
  },
  "language_info": {
   "codemirror_mode": {
    "name": "ipython",
    "version": 3
   },
   "file_extension": ".py",
   "mimetype": "text/x-python",
   "name": "python",
   "nbconvert_exporter": "python",
   "pygments_lexer": "ipython3",
   "version": "3.8.8"
  }
 },
 "nbformat": 4,
 "nbformat_minor": 5
}
